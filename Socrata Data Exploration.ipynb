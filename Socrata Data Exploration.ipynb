{
 "cells": [
  {
   "cell_type": "code",
   "execution_count": 23,
   "id": "534e2f4b",
   "metadata": {},
   "outputs": [
    {
     "name": "stdout",
     "output_type": "stream",
     "text": [
      "Requirement already satisfied: tqdm in c:\\users\\greg.shoda\\anaconda3\\lib\\site-packages (4.64.0)\n",
      "Requirement already satisfied: colorama in c:\\users\\greg.shoda\\anaconda3\\lib\\site-packages (from tqdm) (0.4.4)\n",
      "Note: you may need to restart the kernel to use updated packages.\n"
     ]
    },
    {
     "name": "stderr",
     "output_type": "stream",
     "text": [
      "WARNING: Ignoring invalid distribution -umpy (c:\\users\\greg.shoda\\anaconda3\\lib\\site-packages)\n",
      "WARNING: Ignoring invalid distribution -umpy (c:\\users\\greg.shoda\\anaconda3\\lib\\site-packages)\n",
      "WARNING: Ignoring invalid distribution -umpy (c:\\users\\greg.shoda\\anaconda3\\lib\\site-packages)\n",
      "WARNING: Ignoring invalid distribution -umpy (c:\\users\\greg.shoda\\anaconda3\\lib\\site-packages)\n",
      "WARNING: Ignoring invalid distribution -umpy (c:\\users\\greg.shoda\\anaconda3\\lib\\site-packages)\n",
      "WARNING: Ignoring invalid distribution -umpy (c:\\users\\greg.shoda\\anaconda3\\lib\\site-packages)\n"
     ]
    }
   ],
   "source": [
    "pip install tqdm"
   ]
  },
  {
   "cell_type": "code",
   "execution_count": 1,
   "id": "9d484d1f",
   "metadata": {
    "scrolled": true
   },
   "outputs": [
    {
     "name": "stderr",
     "output_type": "stream",
     "text": [
      "C:\\Users\\greg.shoda\\Anaconda3\\lib\\site-packages\\pandas\\core\\computation\\expressions.py:21: UserWarning: Pandas requires version '2.8.4' or newer of 'numexpr' (version '2.8.1' currently installed).\n",
      "  from pandas.core.computation.check import NUMEXPR_INSTALLED\n",
      "C:\\Users\\greg.shoda\\Anaconda3\\lib\\site-packages\\pandas\\core\\arrays\\masked.py:60: UserWarning: Pandas requires version '1.3.6' or newer of 'bottleneck' (version '1.3.4' currently installed).\n",
      "  from pandas.core import (\n"
     ]
    }
   ],
   "source": [
    "import pandas as pd\n",
    "import requests\n",
    "import re"
   ]
  },
  {
   "cell_type": "code",
   "execution_count": 3,
   "id": "1be12cd4",
   "metadata": {},
   "outputs": [
    {
     "name": "stdout",
     "output_type": "stream",
     "text": [
      "Failed to retrieve datasets: 400\n",
      "Total Datasets Retrieved: 10000\n"
     ]
    }
   ],
   "source": [
    "# Define the endpoint URL for the Socrata Discovery API\n",
    "url = \"https://api.us.socrata.com/api/catalog/v1\"\n",
    "\n",
    "# Set the limit of records per request (100 is the typical max for Socrata)\n",
    "limit = 100\n",
    "offset = 0\n",
    "all_datasets = []\n",
    "\n",
    "# Loop to paginate through all available datasets\n",
    "while True:\n",
    "    # Define parameters with limit and offset\n",
    "    params = {\n",
    "        \"only\": \"datasets\",\n",
    "        \"limit\": limit,\n",
    "        \"offset\": offset\n",
    "    }\n",
    "    \n",
    "    # Make the GET request\n",
    "    response = requests.get(url, params=params)\n",
    "    \n",
    "    # Check if the request was successful\n",
    "    if response.status_code == 200:\n",
    "        # Parse the JSON response\n",
    "        data = response.json()\n",
    "        \n",
    "        # Extract dataset information\n",
    "        datasets = data.get(\"results\", [])\n",
    "        \n",
    "        # If no more results, break the loop\n",
    "        if not datasets:\n",
    "            break\n",
    "        \n",
    "        # Append data to the main list\n",
    "        for dataset in datasets:\n",
    "            all_datasets.append({\n",
    "                \"name\": dataset['resource']['name'],\n",
    "                \"link\": dataset['permalink'],\n",
    "                \"description\": dataset['resource'].get('description', 'No description available'),\n",
    "                \"domain\": dataset['metadata'].get('domain'),  # Optional domain info for city/county identification\n",
    "                \"data_columns\": dataset['resource']['columns_name'],\n",
    "                \"data_columns_types\": dataset['resource']['columns_datatype'],\n",
    "                \"data_columns_description\": dataset['resource']['columns_description']\n",
    "            })\n",
    "        \n",
    "        # Update the offset to fetch the next batch\n",
    "        offset += limit\n",
    "    else:\n",
    "        print(f\"Failed to retrieve datasets: {response.status_code}\")\n",
    "        break\n",
    "\n",
    "# Create a DataFrame with all datasets\n",
    "df = pd.DataFrame(all_datasets)\n",
    "\n",
    "# Display the first few rows\n",
    "print(\"Total Datasets Retrieved:\", len(df))"
   ]
  },
  {
   "cell_type": "code",
   "execution_count": 4,
   "id": "3f62ff11",
   "metadata": {},
   "outputs": [],
   "source": [
    "state_codes_pattern = r'\\b(AL|AK|AZ|AR|CA|CO|CT|DE|FL|GA|HI|ID|IL|IN|IA|KS|KY|LA|ME|MD|MA|MI|MN|MS|MO|MT|NE|NV|NH|NJ|NM|NY|NC|ND|OH|OK|OR|PA|RI|SC|SD|TN|TX|UT|VT|VA|WA|WV|WI|WY)\\b'\n"
   ]
  },
  {
   "cell_type": "code",
   "execution_count": 5,
   "id": "fe85ecdb",
   "metadata": {},
   "outputs": [],
   "source": [
    "def extract_state(domain):\n",
    "    match = re.search(state_codes_pattern, domain, re.IGNORECASE)\n",
    "    return match.group(0).upper() if match else None"
   ]
  },
  {
   "cell_type": "code",
   "execution_count": 6,
   "id": "10c60f15",
   "metadata": {},
   "outputs": [],
   "source": [
    "df['potential_state_code'] = df['domain'].apply(extract_state)"
   ]
  },
  {
   "cell_type": "code",
   "execution_count": 7,
   "id": "568e8998",
   "metadata": {},
   "outputs": [],
   "source": [
    "def clean_text(text):\n",
    "    if isinstance(text, str):\n",
    "        # Remove non-printable characters\n",
    "        return re.sub(r'[\\x00-\\x1F\\x7F]', '', text)\n",
    "    return text"
   ]
  },
  {
   "cell_type": "code",
   "execution_count": 8,
   "id": "d3c1ad09",
   "metadata": {},
   "outputs": [
    {
     "name": "stderr",
     "output_type": "stream",
     "text": [
      "C:\\Users\\greg.shoda\\AppData\\Local\\Temp\\ipykernel_11904\\2197956661.py:1: FutureWarning: DataFrame.applymap has been deprecated. Use DataFrame.map instead.\n",
      "  df = df.applymap(clean_text)\n"
     ]
    }
   ],
   "source": [
    "df = df.applymap(clean_text)"
   ]
  },
  {
   "cell_type": "code",
   "execution_count": 9,
   "id": "2b1ca34a",
   "metadata": {},
   "outputs": [
    {
     "name": "stdout",
     "output_type": "stream",
     "text": [
      "<class 'pandas.core.frame.DataFrame'>\n",
      "RangeIndex: 10000 entries, 0 to 9999\n",
      "Data columns (total 8 columns):\n",
      " #   Column                    Non-Null Count  Dtype \n",
      "---  ------                    --------------  ----- \n",
      " 0   name                      10000 non-null  object\n",
      " 1   link                      10000 non-null  object\n",
      " 2   description               10000 non-null  object\n",
      " 3   domain                    10000 non-null  object\n",
      " 4   data_columns              10000 non-null  object\n",
      " 5   data_columns_types        10000 non-null  object\n",
      " 6   data_columns_description  10000 non-null  object\n",
      " 7   potential_state_code      3893 non-null   object\n",
      "dtypes: object(8)\n",
      "memory usage: 625.1+ KB\n"
     ]
    }
   ],
   "source": [
    "df.info()"
   ]
  },
  {
   "cell_type": "code",
   "execution_count": 10,
   "id": "9ca62a5c",
   "metadata": {},
   "outputs": [
    {
     "data": {
      "text/html": [
       "<div>\n",
       "<style scoped>\n",
       "    .dataframe tbody tr th:only-of-type {\n",
       "        vertical-align: middle;\n",
       "    }\n",
       "\n",
       "    .dataframe tbody tr th {\n",
       "        vertical-align: top;\n",
       "    }\n",
       "\n",
       "    .dataframe thead th {\n",
       "        text-align: right;\n",
       "    }\n",
       "</style>\n",
       "<table border=\"1\" class=\"dataframe\">\n",
       "  <thead>\n",
       "    <tr style=\"text-align: right;\">\n",
       "      <th></th>\n",
       "      <th>name</th>\n",
       "      <th>link</th>\n",
       "      <th>description</th>\n",
       "      <th>domain</th>\n",
       "      <th>data_columns</th>\n",
       "      <th>data_columns_types</th>\n",
       "      <th>data_columns_description</th>\n",
       "      <th>potential_state_code</th>\n",
       "    </tr>\n",
       "  </thead>\n",
       "  <tbody>\n",
       "    <tr>\n",
       "      <th>0</th>\n",
       "      <td>Dallas Police Active Calls</td>\n",
       "      <td>https://www.dallasopendata.com/d/9fxf-t2tr</td>\n",
       "      <td>&lt;b&gt;&lt;p&gt;Due to technical issues the Active Calls...</td>\n",
       "      <td>www.dallasopendata.com</td>\n",
       "      <td>[Unit Num, Nature of Call, Block, Time, Beat, ...</td>\n",
       "      <td>[Text, Text, Text, Text, Text, Text, Text, Tex...</td>\n",
       "      <td>[Responding officers element (unit) number, Pr...</td>\n",
       "      <td>None</td>\n",
       "    </tr>\n",
       "    <tr>\n",
       "      <th>1</th>\n",
       "      <td>Lottery Cash 4 Life Winning Numbers: Beginning...</td>\n",
       "      <td>https://data.ny.gov/d/kwxv-fwze</td>\n",
       "      <td>Go to http://on.ny.gov/1xRIvPz on the New York...</td>\n",
       "      <td>data.ny.gov</td>\n",
       "      <td>[Cash Ball, Draw Date, Winning Numbers]</td>\n",
       "      <td>[Text, Calendar date, Text]</td>\n",
       "      <td>[Cash ball, Draw date, Winning numbers]</td>\n",
       "      <td>NY</td>\n",
       "    </tr>\n",
       "    <tr>\n",
       "      <th>2</th>\n",
       "      <td>Provisional COVID-19 Deaths by Sex and Age</td>\n",
       "      <td>https://data.cdc.gov/d/9bhg-hcku</td>\n",
       "      <td>Effective September 27, 2023, this dataset wil...</td>\n",
       "      <td>data.cdc.gov</td>\n",
       "      <td>[End Date, Influenza Deaths, Total Deaths, Age...</td>\n",
       "      <td>[Calendar date, Number, Number, Text, Text, Ca...</td>\n",
       "      <td>[Last date of data period, Influenza Deaths (I...</td>\n",
       "      <td>None</td>\n",
       "    </tr>\n",
       "    <tr>\n",
       "      <th>3</th>\n",
       "      <td>Howard County Police Department Call For Servi...</td>\n",
       "      <td>https://opendata.howardcountymd.gov/d/qccx-65fg</td>\n",
       "      <td>Calls for Service by computer aided dispatch (...</td>\n",
       "      <td>opendata.howardcountymd.gov</td>\n",
       "      <td>[Date_Reported, Computer_Aided_Dispatch_Event_...</td>\n",
       "      <td>[Calendar date, Text, Text, Number, Text, Text]</td>\n",
       "      <td>[, , , , , ]</td>\n",
       "      <td>None</td>\n",
       "    </tr>\n",
       "    <tr>\n",
       "      <th>4</th>\n",
       "      <td>Health Care Provider Credential Data</td>\n",
       "      <td>https://data.wa.gov/d/qxh8-f4bd</td>\n",
       "      <td>The Washington State Department of Health pres...</td>\n",
       "      <td>data.wa.gov</td>\n",
       "      <td>[Status, MiddleName, BirthYear, ActionTaken, L...</td>\n",
       "      <td>[Text, Text, Text, Text, Text, Text, Text, Tex...</td>\n",
       "      <td>[, , , , , , , , , , , ]</td>\n",
       "      <td>WA</td>\n",
       "    </tr>\n",
       "  </tbody>\n",
       "</table>\n",
       "</div>"
      ],
      "text/plain": [
       "                                                name  \\\n",
       "0                         Dallas Police Active Calls   \n",
       "1  Lottery Cash 4 Life Winning Numbers: Beginning...   \n",
       "2         Provisional COVID-19 Deaths by Sex and Age   \n",
       "3  Howard County Police Department Call For Servi...   \n",
       "4               Health Care Provider Credential Data   \n",
       "\n",
       "                                              link  \\\n",
       "0       https://www.dallasopendata.com/d/9fxf-t2tr   \n",
       "1                  https://data.ny.gov/d/kwxv-fwze   \n",
       "2                 https://data.cdc.gov/d/9bhg-hcku   \n",
       "3  https://opendata.howardcountymd.gov/d/qccx-65fg   \n",
       "4                  https://data.wa.gov/d/qxh8-f4bd   \n",
       "\n",
       "                                         description  \\\n",
       "0  <b><p>Due to technical issues the Active Calls...   \n",
       "1  Go to http://on.ny.gov/1xRIvPz on the New York...   \n",
       "2  Effective September 27, 2023, this dataset wil...   \n",
       "3  Calls for Service by computer aided dispatch (...   \n",
       "4  The Washington State Department of Health pres...   \n",
       "\n",
       "                        domain  \\\n",
       "0       www.dallasopendata.com   \n",
       "1                  data.ny.gov   \n",
       "2                 data.cdc.gov   \n",
       "3  opendata.howardcountymd.gov   \n",
       "4                  data.wa.gov   \n",
       "\n",
       "                                        data_columns  \\\n",
       "0  [Unit Num, Nature of Call, Block, Time, Beat, ...   \n",
       "1            [Cash Ball, Draw Date, Winning Numbers]   \n",
       "2  [End Date, Influenza Deaths, Total Deaths, Age...   \n",
       "3  [Date_Reported, Computer_Aided_Dispatch_Event_...   \n",
       "4  [Status, MiddleName, BirthYear, ActionTaken, L...   \n",
       "\n",
       "                                  data_columns_types  \\\n",
       "0  [Text, Text, Text, Text, Text, Text, Text, Tex...   \n",
       "1                        [Text, Calendar date, Text]   \n",
       "2  [Calendar date, Number, Number, Text, Text, Ca...   \n",
       "3    [Calendar date, Text, Text, Number, Text, Text]   \n",
       "4  [Text, Text, Text, Text, Text, Text, Text, Tex...   \n",
       "\n",
       "                            data_columns_description potential_state_code  \n",
       "0  [Responding officers element (unit) number, Pr...                 None  \n",
       "1            [Cash ball, Draw date, Winning numbers]                   NY  \n",
       "2  [Last date of data period, Influenza Deaths (I...                 None  \n",
       "3                                       [, , , , , ]                 None  \n",
       "4                           [, , , , , , , , , , , ]                   WA  "
      ]
     },
     "execution_count": 10,
     "metadata": {},
     "output_type": "execute_result"
    }
   ],
   "source": [
    "df.head()"
   ]
  },
  {
   "cell_type": "code",
   "execution_count": 11,
   "id": "9af18a53",
   "metadata": {
    "scrolled": true
   },
   "outputs": [],
   "source": [
    "df['api_link'] = df['link'] + \".json\""
   ]
  },
  {
   "cell_type": "code",
   "execution_count": 12,
   "id": "a9671420",
   "metadata": {},
   "outputs": [
    {
     "data": {
      "text/plain": [
       "0       https://www.dallasopendata.com/d/9fxf-t2tr.json\n",
       "1                  https://data.ny.gov/d/kwxv-fwze.json\n",
       "2                 https://data.cdc.gov/d/9bhg-hcku.json\n",
       "3     https://opendata.howardcountymd.gov/d/qccx-65f...\n",
       "4                  https://data.wa.gov/d/qxh8-f4bd.json\n",
       "5              https://datahub.hhs.gov/d/rxn6-qnx8.json\n",
       "6        https://data.cityofnewyork.us/d/8wbx-tsch.json\n",
       "7        https://data.cityofnewyork.us/d/vx8i-nprf.json\n",
       "8     https://opendata.howardcountymd.gov/d/kvz2-j5c...\n",
       "9        https://data.cityofnewyork.us/d/ic3t-wcy2.json\n",
       "10            https://www.datos.gov.co/d/gt2j-8ykr.json\n",
       "11                https://data.cdc.gov/d/nr4s-juj3.json\n",
       "12      https://data.cityofchicago.org/d/xzkq-xp2w.json\n",
       "13    https://opendata.howardcountymd.gov/d/xvpn-2pn...\n",
       "14    https://opendata.howardcountymd.gov/d/f362-6fu...\n",
       "15    https://opendata.howardcountymd.gov/d/8fxg-nyr...\n",
       "16       https://data.cityofnewyork.us/d/dpec-ucu7.json\n",
       "17    https://opendata.howardcountymd.gov/d/6uza-cd7...\n",
       "18          https://health.data.ny.gov/d/keti-qx5t.json\n",
       "19                 https://data.ny.gov/d/hsys-3def.json\n",
       "Name: api_link, dtype: object"
      ]
     },
     "execution_count": 12,
     "metadata": {},
     "output_type": "execute_result"
    }
   ],
   "source": [
    "df['api_link'].head(20)"
   ]
  },
  {
   "cell_type": "code",
   "execution_count": 15,
   "id": "213740bd",
   "metadata": {},
   "outputs": [],
   "source": [
    "df['api_link'] = df['api_link'].str.replace('/d/', '/resource/')"
   ]
  },
  {
   "cell_type": "code",
   "execution_count": 16,
   "id": "17459587",
   "metadata": {},
   "outputs": [
    {
     "data": {
      "text/plain": [
       "0       https://www.dallasopendata.com/resource/9fxf-t...\n",
       "1             https://data.ny.gov/resource/kwxv-fwze.json\n",
       "2            https://data.cdc.gov/resource/9bhg-hcku.json\n",
       "3       https://opendata.howardcountymd.gov/resource/q...\n",
       "4             https://data.wa.gov/resource/qxh8-f4bd.json\n",
       "                              ...                        \n",
       "9995     https://data.edmonton.ca/resource/p2tt-8mv9.json\n",
       "9996         https://data.cdc.gov/resource/8i5t-42wz.json\n",
       "9997          https://data.ct.gov/resource/4vva-amjy.json\n",
       "9998    https://opendata.maryland.gov/resource/94gw-yf...\n",
       "9999      https://gnb.socrata.com/resource/t6hf-gbks.json\n",
       "Name: api_link, Length: 10000, dtype: object"
      ]
     },
     "execution_count": 16,
     "metadata": {},
     "output_type": "execute_result"
    }
   ],
   "source": [
    "df['api_link']"
   ]
  },
  {
   "cell_type": "code",
   "execution_count": 17,
   "id": "47115707",
   "metadata": {},
   "outputs": [],
   "source": [
    "api_link_1 = df.loc[0, 'api_link']"
   ]
  },
  {
   "cell_type": "code",
   "execution_count": 30,
   "id": "f4ecd39a",
   "metadata": {},
   "outputs": [],
   "source": [
    "def fetch_data(api_link, timeout=5):\n",
    "    try:\n",
    "        # Attempt to fetch data from the API link with a timeout\n",
    "        response = requests.get(api_link, timeout=timeout)\n",
    "        response.raise_for_status()  # Raise an error for unsuccessful status codes\n",
    "        return response.json()  # Return JSON data from the response\n",
    "    except requests.exceptions.Timeout:\n",
    "        print(f\"Request to {api_link} timed out after {timeout} seconds.\")\n",
    "        return \"Timeout\"  # Return None for timeout cases\n",
    "    except requests.exceptions.RequestException as e:\n",
    "        print(f\"Error fetching data from {api_link}: {e}\")\n",
    "        return \"ErrorFetchingData\"  # Return None for other exceptions"
   ]
  },
  {
   "cell_type": "code",
   "execution_count": 24,
   "id": "2d878509",
   "metadata": {},
   "outputs": [],
   "source": [
    "from tqdm import tqdm"
   ]
  },
  {
   "cell_type": "code",
   "execution_count": 25,
   "id": "181ea67c",
   "metadata": {},
   "outputs": [],
   "source": [
    "tqdm.pandas()"
   ]
  },
  {
   "cell_type": "code",
   "execution_count": null,
   "id": "9fda0c12",
   "metadata": {
    "scrolled": true
   },
   "outputs": [
    {
     "name": "stderr",
     "output_type": "stream",
     "text": [
      "  0%|▎                                                                            | 35/10000 [00:21<5:02:04,  1.82s/it]"
     ]
    },
    {
     "name": "stdout",
     "output_type": "stream",
     "text": [
      "Request to https://data.cityofnewyork.us/resource/erm2-nwe9.json timed out after 5 seconds.\n"
     ]
    },
    {
     "name": "stderr",
     "output_type": "stream",
     "text": [
      "  1%|▋                                                                            | 87/10000 [01:05<6:08:58,  2.23s/it]"
     ]
    },
    {
     "name": "stdout",
     "output_type": "stream",
     "text": [
      "Request to https://datahub.austintexas.gov/resource/3syk-w9eu.json timed out after 5 seconds.\n"
     ]
    },
    {
     "name": "stderr",
     "output_type": "stream",
     "text": [
      "  2%|█▏                                                                          | 150/10000 [01:49<7:37:32,  2.79s/it]"
     ]
    },
    {
     "name": "stdout",
     "output_type": "stream",
     "text": [
      "Request to https://data.cityofchicago.org/resource/22u3-xenr.json timed out after 5 seconds.\n"
     ]
    },
    {
     "name": "stderr",
     "output_type": "stream",
     "text": [
      "  2%|█▏                                                                          | 155/10000 [01:55<6:01:39,  2.20s/it]"
     ]
    },
    {
     "name": "stdout",
     "output_type": "stream",
     "text": [
      "Request to https://data.cityofnewyork.us/resource/jz4z-kudi.json timed out after 5 seconds.\n"
     ]
    },
    {
     "name": "stderr",
     "output_type": "stream",
     "text": [
      "  2%|█▎                                                                          | 176/10000 [02:16<5:26:05,  1.99s/it]"
     ]
    },
    {
     "name": "stdout",
     "output_type": "stream",
     "text": [
      "Request to https://controllerdata.lacity.org/resource/pggv-e4fn.json timed out after 5 seconds.\n"
     ]
    },
    {
     "name": "stderr",
     "output_type": "stream",
     "text": [
      "  2%|█▌                                                                          | 206/10000 [02:40<5:03:45,  1.86s/it]"
     ]
    },
    {
     "name": "stdout",
     "output_type": "stream",
     "text": [
      "Request to https://data.cityofnewyork.us/resource/qgea-i56i.json timed out after 5 seconds.\n"
     ]
    },
    {
     "name": "stderr",
     "output_type": "stream",
     "text": [
      "  2%|█▋                                                                          | 218/10000 [02:50<5:04:59,  1.87s/it]"
     ]
    },
    {
     "name": "stdout",
     "output_type": "stream",
     "text": [
      "Request to https://data.cityofchicago.org/resource/wrvz-psew.json timed out after 5 seconds.\n"
     ]
    },
    {
     "name": "stderr",
     "output_type": "stream",
     "text": [
      "  3%|█▉                                                                          | 251/10000 [03:20<5:06:37,  1.89s/it]"
     ]
    },
    {
     "name": "stdout",
     "output_type": "stream",
     "text": [
      "Request to https://www.datos.gov.co/resource/mxk5-ce6w.json timed out after 5 seconds.\n"
     ]
    },
    {
     "name": "stderr",
     "output_type": "stream",
     "text": [
      "  3%|██                                                                          | 266/10000 [03:32<5:17:41,  1.96s/it]"
     ]
    },
    {
     "name": "stdout",
     "output_type": "stream",
     "text": [
      "Request to https://data.cityofnewyork.us/resource/8h9b-rp9u.json timed out after 5 seconds.\n"
     ]
    },
    {
     "name": "stderr",
     "output_type": "stream",
     "text": [
      "  3%|██▍                                                                           | 311/10000 [04:02<54:55,  2.94it/s]"
     ]
    },
    {
     "name": "stdout",
     "output_type": "stream",
     "text": [
      "Error fetching data from https://priv-data.ojp.usdoj.gov/resource/a7v8-ei2f.json: HTTPSConnectionPool(host='priv-data.ojp.usdoj.gov', port=443): Max retries exceeded with url: /resource/a7v8-ei2f.json (Caused by NewConnectionError('<urllib3.connection.HTTPSConnection object at 0x00000254178DB250>: Failed to establish a new connection: [Errno 11001] getaddrinfo failed'))\n"
     ]
    },
    {
     "name": "stderr",
     "output_type": "stream",
     "text": [
      "  3%|██▌                                                                         | 334/10000 [04:25<5:37:08,  2.09s/it]"
     ]
    },
    {
     "name": "stdout",
     "output_type": "stream",
     "text": [
      "Request to https://data.cityofnewyork.us/resource/5uac-w243.json timed out after 5 seconds.\n"
     ]
    },
    {
     "name": "stderr",
     "output_type": "stream",
     "text": [
      "  5%|███▊                                                                        | 504/10000 [06:24<5:35:55,  2.12s/it]"
     ]
    },
    {
     "name": "stdout",
     "output_type": "stream",
     "text": [
      "Request to https://data.cityofnewyork.us/resource/t29m-gskq.json timed out after 5 seconds.\n"
     ]
    },
    {
     "name": "stderr",
     "output_type": "stream",
     "text": [
      "  5%|████                                                                        | 532/10000 [06:48<5:27:42,  2.08s/it]"
     ]
    },
    {
     "name": "stdout",
     "output_type": "stream",
     "text": [
      "Request to https://data.cityofnewyork.us/resource/jgtb-hmpg.json timed out after 5 seconds.\n"
     ]
    },
    {
     "name": "stderr",
     "output_type": "stream",
     "text": [
      "  6%|████▏                                                                       | 554/10000 [07:05<4:46:55,  1.82s/it]"
     ]
    },
    {
     "name": "stdout",
     "output_type": "stream",
     "text": [
      "Request to https://data.cityofnewyork.us/resource/867j-5pgi.json timed out after 5 seconds.\n"
     ]
    },
    {
     "name": "stderr",
     "output_type": "stream",
     "text": [
      "  6%|████▍                                                                       | 588/10000 [07:38<5:01:22,  1.92s/it]"
     ]
    },
    {
     "name": "stdout",
     "output_type": "stream",
     "text": [
      "Request to https://data.cityofchicago.org/resource/hec5-y4x5.json timed out after 5 seconds.\n"
     ]
    },
    {
     "name": "stderr",
     "output_type": "stream",
     "text": [
      "  6%|████▌                                                                       | 608/10000 [07:55<5:05:48,  1.95s/it]"
     ]
    },
    {
     "name": "stdout",
     "output_type": "stream",
     "text": [
      "Request to https://data.cityofchicago.org/resource/u6pd-qa9d.json timed out after 5 seconds.\n"
     ]
    },
    {
     "name": "stderr",
     "output_type": "stream",
     "text": [
      "\r",
      "  6%|████▋                                                                       | 609/10000 [08:00<7:34:45,  2.91s/it]"
     ]
    },
    {
     "name": "stdout",
     "output_type": "stream",
     "text": [
      "Request to https://data.cityofchicago.org/resource/sxs8-h27x.json timed out after 5 seconds.\n"
     ]
    },
    {
     "name": "stderr",
     "output_type": "stream",
     "text": [
      "  6%|████▋                                                                       | 618/10000 [08:14<6:36:13,  2.53s/it]"
     ]
    },
    {
     "name": "stdout",
     "output_type": "stream",
     "text": [
      "Request to https://data.cityofchicago.org/resource/v6vf-nfxy.json timed out after 5 seconds.\n"
     ]
    },
    {
     "name": "stderr",
     "output_type": "stream",
     "text": [
      "  6%|████▊                                                                       | 639/10000 [08:31<4:57:09,  1.90s/it]"
     ]
    },
    {
     "name": "stdout",
     "output_type": "stream",
     "text": [
      "Request to https://www.datos.gov.co/resource/qhpu-8ixx.json timed out after 5 seconds.\n"
     ]
    },
    {
     "name": "stderr",
     "output_type": "stream",
     "text": [
      "  8%|█████▉                                                                      | 782/10000 [10:14<5:10:24,  2.02s/it]"
     ]
    },
    {
     "name": "stdout",
     "output_type": "stream",
     "text": [
      "Request to https://data.ny.gov/resource/7vem-aaz7.json timed out after 5 seconds.\n"
     ]
    },
    {
     "name": "stderr",
     "output_type": "stream",
     "text": [
      "  9%|███████                                                                     | 922/10000 [11:49<5:03:13,  2.00s/it]"
     ]
    },
    {
     "name": "stdout",
     "output_type": "stream",
     "text": [
      "Request to https://www.datos.gov.co/resource/w9zh-vetq.json timed out after 5 seconds.\n"
     ]
    },
    {
     "name": "stderr",
     "output_type": "stream",
     "text": [
      " 11%|████████▎                                                                  | 1103/10000 [14:23<4:56:15,  2.00s/it]"
     ]
    },
    {
     "name": "stdout",
     "output_type": "stream",
     "text": [
      "Request to https://data.ny.gov/resource/qzve-kjga.json timed out after 5 seconds.\n"
     ]
    },
    {
     "name": "stderr",
     "output_type": "stream",
     "text": [
      " 11%|████████▍                                                                  | 1123/10000 [14:41<4:58:21,  2.02s/it]"
     ]
    },
    {
     "name": "stdout",
     "output_type": "stream",
     "text": [
      "Request to https://data.cityofchicago.org/resource/fg6s-gzvg.json timed out after 5 seconds.\n"
     ]
    },
    {
     "name": "stderr",
     "output_type": "stream",
     "text": [
      " 11%|████████▍                                                                  | 1126/10000 [14:48<6:08:42,  2.49s/it]"
     ]
    },
    {
     "name": "stdout",
     "output_type": "stream",
     "text": [
      "Request to https://data.lacity.org/resource/3f9m-afei.json timed out after 5 seconds.\n"
     ]
    },
    {
     "name": "stderr",
     "output_type": "stream",
     "text": [
      " 12%|█████████                                                                  | 1210/10000 [15:50<5:04:38,  2.08s/it]"
     ]
    },
    {
     "name": "stdout",
     "output_type": "stream",
     "text": [
      "Request to https://data.edmonton.ca/resource/cnsu-iagr.json timed out after 5 seconds.\n"
     ]
    },
    {
     "name": "stderr",
     "output_type": "stream",
     "text": [
      " 13%|█████████▍                                                                 | 1257/10000 [16:19<4:27:54,  1.84s/it]"
     ]
    },
    {
     "name": "stdout",
     "output_type": "stream",
     "text": [
      "Request to https://www.datos.gov.co/resource/gpzw-wmxd.json timed out after 5 seconds.\n"
     ]
    },
    {
     "name": "stderr",
     "output_type": "stream",
     "text": [
      " 13%|█████████▌                                                                 | 1281/10000 [16:36<4:26:36,  1.83s/it]"
     ]
    },
    {
     "name": "stdout",
     "output_type": "stream",
     "text": [
      "Request to https://data.cityofnewyork.us/resource/bty7-2jhb.json timed out after 5 seconds.\n"
     ]
    },
    {
     "name": "stderr",
     "output_type": "stream",
     "text": [
      " 14%|██████████▎                                                                | 1382/10000 [17:50<4:55:20,  2.06s/it]"
     ]
    },
    {
     "name": "stdout",
     "output_type": "stream",
     "text": [
      "Request to https://data.cityofnewyork.us/resource/uq7m-95z8.json timed out after 5 seconds.\n"
     ]
    },
    {
     "name": "stderr",
     "output_type": "stream",
     "text": [
      " 14%|██████████▌                                                                | 1416/10000 [18:14<4:42:08,  1.97s/it]"
     ]
    },
    {
     "name": "stdout",
     "output_type": "stream",
     "text": [
      "Request to https://data.cityofnewyork.us/resource/i4gi-tjb9.json timed out after 5 seconds.\n"
     ]
    },
    {
     "name": "stderr",
     "output_type": "stream",
     "text": [
      " 14%|██████████▊                                                                | 1435/10000 [18:28<1:31:48,  1.55it/s]"
     ]
    },
    {
     "name": "stdout",
     "output_type": "stream",
     "text": [
      "Error fetching data from https://priv-data.ojp.usdoj.gov/resource/ynf5-u8nk.json: HTTPSConnectionPool(host='priv-data.ojp.usdoj.gov', port=443): Max retries exceeded with url: /resource/ynf5-u8nk.json (Caused by NewConnectionError('<urllib3.connection.HTTPSConnection object at 0x0000025467246700>: Failed to establish a new connection: [Errno 11001] getaddrinfo failed'))\n"
     ]
    },
    {
     "name": "stderr",
     "output_type": "stream",
     "text": [
      " 15%|██████████▉                                                                | 1456/10000 [18:44<2:03:53,  1.15it/s]"
     ]
    },
    {
     "name": "stdout",
     "output_type": "stream",
     "text": [
      "Error fetching data from https://performance.cityofrc.us/resource/gznk-kkf7.json: HTTPSConnectionPool(host='performance.cityofrc.us', port=443): Max retries exceeded with url: /resource/gznk-kkf7.json (Caused by NewConnectionError('<urllib3.connection.HTTPSConnection object at 0x00000254672460A0>: Failed to establish a new connection: [Errno 11001] getaddrinfo failed'))\n"
     ]
    },
    {
     "name": "stderr",
     "output_type": "stream",
     "text": [
      " 15%|███████████                                                                | 1469/10000 [18:54<4:25:23,  1.87s/it]"
     ]
    },
    {
     "name": "stdout",
     "output_type": "stream",
     "text": [
      "Request to https://data.cityofnewyork.us/resource/tm6d-hbzd.json timed out after 5 seconds.\n"
     ]
    },
    {
     "name": "stderr",
     "output_type": "stream",
     "text": [
      " 15%|███████████                                                                | 1474/10000 [19:04<5:29:10,  2.32s/it]"
     ]
    },
    {
     "name": "stdout",
     "output_type": "stream",
     "text": [
      "Request to https://data.montgomerycountymd.gov/resource/k9nj-z35d.json timed out after 5 seconds.\n"
     ]
    },
    {
     "name": "stderr",
     "output_type": "stream",
     "text": [
      " 15%|███████████▌                                                               | 1536/10000 [19:42<1:34:00,  1.50it/s]"
     ]
    },
    {
     "name": "stdout",
     "output_type": "stream",
     "text": [
      "Error fetching data from https://priv-data.ojp.usdoj.gov/resource/d7q7-hb2x.json: HTTPSConnectionPool(host='priv-data.ojp.usdoj.gov', port=443): Max retries exceeded with url: /resource/d7q7-hb2x.json (Caused by NewConnectionError('<urllib3.connection.HTTPSConnection object at 0x000002541BD75EE0>: Failed to establish a new connection: [Errno 11001] getaddrinfo failed'))\n"
     ]
    },
    {
     "name": "stderr",
     "output_type": "stream",
     "text": [
      " 17%|████████████▌                                                              | 1668/10000 [21:05<1:11:38,  1.94it/s]"
     ]
    },
    {
     "name": "stdout",
     "output_type": "stream",
     "text": [
      "Error fetching data from https://priv-data.ojp.usdoj.gov/resource/c8pf-ybds.json: HTTPSConnectionPool(host='priv-data.ojp.usdoj.gov', port=443): Max retries exceeded with url: /resource/c8pf-ybds.json (Caused by NewConnectionError('<urllib3.connection.HTTPSConnection object at 0x0000025467246700>: Failed to establish a new connection: [Errno 11001] getaddrinfo failed'))\n"
     ]
    },
    {
     "name": "stderr",
     "output_type": "stream",
     "text": [
      " 17%|████████████▋                                                              | 1692/10000 [21:21<1:29:31,  1.55it/s]"
     ]
    },
    {
     "name": "stdout",
     "output_type": "stream",
     "text": [
      "Error fetching data from https://priv-data.ojp.usdoj.gov/resource/nf48-gwd6.json: HTTPSConnectionPool(host='priv-data.ojp.usdoj.gov', port=443): Max retries exceeded with url: /resource/nf48-gwd6.json (Caused by NewConnectionError('<urllib3.connection.HTTPSConnection object at 0x0000025467246880>: Failed to establish a new connection: [Errno 11001] getaddrinfo failed'))\n"
     ]
    },
    {
     "name": "stderr",
     "output_type": "stream",
     "text": [
      " 17%|████████████▋                                                              | 1698/10000 [21:28<4:06:15,  1.78s/it]"
     ]
    },
    {
     "name": "stdout",
     "output_type": "stream",
     "text": [
      "Request to https://data.cityofnewyork.us/resource/2nwg-uqyg.json timed out after 5 seconds.\n"
     ]
    },
    {
     "name": "stderr",
     "output_type": "stream",
     "text": [
      " 17%|████████████▊                                                              | 1706/10000 [21:32<1:25:24,  1.62it/s]"
     ]
    },
    {
     "name": "stdout",
     "output_type": "stream",
     "text": [
      "Error fetching data from https://priv-data.ojp.usdoj.gov/resource/8tjc-3ibv.json: HTTPSConnectionPool(host='priv-data.ojp.usdoj.gov', port=443): Max retries exceeded with url: /resource/8tjc-3ibv.json (Caused by NewConnectionError('<urllib3.connection.HTTPSConnection object at 0x0000025467246100>: Failed to establish a new connection: [Errno 11001] getaddrinfo failed'))\n"
     ]
    },
    {
     "name": "stderr",
     "output_type": "stream",
     "text": [
      " 17%|█████████████                                                              | 1738/10000 [22:04<4:10:46,  1.82s/it]"
     ]
    },
    {
     "name": "stdout",
     "output_type": "stream",
     "text": [
      "Request to https://data.cityofnewyork.us/resource/td5q-ry6d.json timed out after 5 seconds.\n"
     ]
    },
    {
     "name": "stderr",
     "output_type": "stream",
     "text": [
      " 18%|█████████████▎                                                             | 1767/10000 [22:28<4:24:14,  1.93s/it]"
     ]
    },
    {
     "name": "stdout",
     "output_type": "stream",
     "text": [
      "Request to https://datahub.transportation.gov/resource/8uv2-y4is.json timed out after 5 seconds.\n"
     ]
    },
    {
     "name": "stderr",
     "output_type": "stream",
     "text": [
      " 18%|█████████████▊                                                             | 1842/10000 [23:28<4:23:26,  1.94s/it]"
     ]
    },
    {
     "name": "stdout",
     "output_type": "stream",
     "text": [
      "Request to https://data.cityofchicago.org/resource/ujwc-724r.json timed out after 5 seconds.\n"
     ]
    },
    {
     "name": "stderr",
     "output_type": "stream",
     "text": [
      " 18%|█████████████▉                                                             | 1850/10000 [23:35<2:03:31,  1.10it/s]"
     ]
    },
    {
     "name": "stdout",
     "output_type": "stream",
     "text": [
      "Error fetching data from https://priv-data.ojp.usdoj.gov/resource/pkdv-cwks.json: HTTPSConnectionPool(host='priv-data.ojp.usdoj.gov', port=443): Max retries exceeded with url: /resource/pkdv-cwks.json (Caused by NewConnectionError('<urllib3.connection.HTTPSConnection object at 0x00000254672461F0>: Failed to establish a new connection: [Errno 11001] getaddrinfo failed'))\n"
     ]
    },
    {
     "name": "stderr",
     "output_type": "stream",
     "text": [
      " 19%|██████████████▎                                                            | 1914/10000 [24:12<1:38:30,  1.37it/s]"
     ]
    },
    {
     "name": "stdout",
     "output_type": "stream",
     "text": [
      "Error fetching data from https://priv-data.ojp.usdoj.gov/resource/98ww-3sks.json: HTTPSConnectionPool(host='priv-data.ojp.usdoj.gov', port=443): Max retries exceeded with url: /resource/98ww-3sks.json (Caused by NewConnectionError('<urllib3.connection.HTTPSConnection object at 0x0000025467246100>: Failed to establish a new connection: [Errno 11001] getaddrinfo failed'))\n"
     ]
    },
    {
     "name": "stderr",
     "output_type": "stream",
     "text": [
      " 19%|██████████████▉                                                              | 1943/10000 [24:29<58:19,  2.30it/s]"
     ]
    },
    {
     "name": "stdout",
     "output_type": "stream",
     "text": [
      "Error fetching data from https://priv-data.ojp.usdoj.gov/resource/sz6i-wjcm.json: HTTPSConnectionPool(host='priv-data.ojp.usdoj.gov', port=443): Max retries exceeded with url: /resource/sz6i-wjcm.json (Caused by NewConnectionError('<urllib3.connection.HTTPSConnection object at 0x0000025467246700>: Failed to establish a new connection: [Errno 11001] getaddrinfo failed'))\n"
     ]
    },
    {
     "name": "stderr",
     "output_type": "stream",
     "text": [
      " 20%|██████████████▉                                                            | 1991/10000 [25:00<1:13:29,  1.82it/s]"
     ]
    },
    {
     "name": "stdout",
     "output_type": "stream",
     "text": [
      "Error fetching data from https://performance.cityofrc.us/resource/cnpb-8s3c.json: HTTPSConnectionPool(host='performance.cityofrc.us', port=443): Max retries exceeded with url: /resource/cnpb-8s3c.json (Caused by NewConnectionError('<urllib3.connection.HTTPSConnection object at 0x0000025467246220>: Failed to establish a new connection: [Errno 11001] getaddrinfo failed'))\n"
     ]
    },
    {
     "name": "stderr",
     "output_type": "stream",
     "text": [
      " 20%|███████████████                                                            | 2000/10000 [25:08<4:01:21,  1.81s/it]"
     ]
    },
    {
     "name": "stdout",
     "output_type": "stream",
     "text": [
      "Request to https://data.cityofnewyork.us/resource/sv2w-rv3k.json timed out after 5 seconds.\n"
     ]
    },
    {
     "name": "stderr",
     "output_type": "stream",
     "text": [
      " 20%|███████████████                                                            | 2006/10000 [25:18<5:04:18,  2.28s/it]"
     ]
    },
    {
     "name": "stdout",
     "output_type": "stream",
     "text": [
      "Request to https://data.readingpa.gov/resource/vicb-nrz9.json timed out after 5 seconds.\n"
     ]
    },
    {
     "name": "stderr",
     "output_type": "stream",
     "text": [
      " 20%|███████████████▏                                                           | 2033/10000 [25:40<4:12:00,  1.90s/it]"
     ]
    },
    {
     "name": "stdout",
     "output_type": "stream",
     "text": [
      "Request to https://data.cityofchicago.org/resource/bc6b-sq4u.json timed out after 5 seconds.\n"
     ]
    },
    {
     "name": "stderr",
     "output_type": "stream",
     "text": [
      " 21%|████████████████                                                           | 2134/10000 [26:57<4:13:46,  1.94s/it]"
     ]
    },
    {
     "name": "stdout",
     "output_type": "stream",
     "text": [
      "Request to https://data.vermont.gov/resource/vf3r-u4kv.json timed out after 5 seconds.\n"
     ]
    },
    {
     "name": "stderr",
     "output_type": "stream",
     "text": [
      " 22%|████████████████▎                                                          | 2183/10000 [27:40<4:28:18,  2.06s/it]"
     ]
    },
    {
     "name": "stdout",
     "output_type": "stream",
     "text": [
      "Request to https://cthru.data.socrata.com/resource/pegc-naaa.json timed out after 5 seconds.\n"
     ]
    },
    {
     "name": "stderr",
     "output_type": "stream",
     "text": [
      " 22%|████████████████▌                                                          | 2215/10000 [28:07<4:46:48,  2.21s/it]"
     ]
    },
    {
     "name": "stdout",
     "output_type": "stream",
     "text": [
      "Request to https://data.cityofnewyork.us/resource/92iy-9c3n.json timed out after 5 seconds.\n"
     ]
    },
    {
     "name": "stderr",
     "output_type": "stream",
     "text": [
      " 22%|████████████████▋                                                          | 2233/10000 [28:29<4:37:46,  2.15s/it]"
     ]
    },
    {
     "name": "stdout",
     "output_type": "stream",
     "text": [
      "Request to https://data.cityofnewyork.us/resource/nyis-y4yr.json timed out after 5 seconds.\n"
     ]
    },
    {
     "name": "stderr",
     "output_type": "stream",
     "text": [
      " 23%|████████████████▉                                                          | 2260/10000 [28:58<5:06:18,  2.37s/it]"
     ]
    },
    {
     "name": "stdout",
     "output_type": "stream",
     "text": [
      "Request to https://data.norfolk.gov/resource/ere7-kake.json timed out after 5 seconds.\n"
     ]
    },
    {
     "name": "stderr",
     "output_type": "stream",
     "text": [
      " 23%|█████████████████▎                                                         | 2308/10000 [29:51<5:08:12,  2.40s/it]"
     ]
    },
    {
     "name": "stdout",
     "output_type": "stream",
     "text": [
      "Request to https://www.datos.gov.co/resource/ur2p-h4yf.json timed out after 5 seconds.\n"
     ]
    },
    {
     "name": "stderr",
     "output_type": "stream",
     "text": [
      " 24%|█████████████████▉                                                         | 2389/10000 [30:52<4:19:11,  2.04s/it]"
     ]
    },
    {
     "name": "stdout",
     "output_type": "stream",
     "text": [
      "Request to https://data.cityofnewyork.us/resource/a5td-mswe.json timed out after 5 seconds.\n"
     ]
    },
    {
     "name": "stderr",
     "output_type": "stream",
     "text": [
      " 24%|██████████████████                                                         | 2407/10000 [31:13<4:15:24,  2.02s/it]"
     ]
    },
    {
     "name": "stdout",
     "output_type": "stream",
     "text": [
      "Request to https://www.datos.gov.co/resource/2x55-9wxm.json timed out after 5 seconds.\n"
     ]
    },
    {
     "name": "stderr",
     "output_type": "stream",
     "text": [
      " 24%|██████████████████                                                         | 2412/10000 [31:23<5:56:02,  2.82s/it]"
     ]
    },
    {
     "name": "stdout",
     "output_type": "stream",
     "text": [
      "Request to https://www.data.act.gov.au/resource/sepa-djsm.json timed out after 5 seconds.\n"
     ]
    },
    {
     "name": "stderr",
     "output_type": "stream",
     "text": [
      " 24%|██████████████████▎                                                        | 2435/10000 [31:42<4:10:43,  1.99s/it]"
     ]
    },
    {
     "name": "stdout",
     "output_type": "stream",
     "text": [
      "Request to https://datahub.transportation.gov/resource/icqf-xf4w.json timed out after 5 seconds.\n"
     ]
    },
    {
     "name": "stderr",
     "output_type": "stream",
     "text": [
      " 25%|██████████████████▉                                                        | 2527/10000 [32:46<3:53:13,  1.87s/it]"
     ]
    },
    {
     "name": "stdout",
     "output_type": "stream",
     "text": [
      "Request to https://data.nola.gov/resource/qarb-kkbj.json timed out after 5 seconds.\n"
     ]
    },
    {
     "name": "stderr",
     "output_type": "stream",
     "text": [
      " 26%|███████████████████▍                                                       | 2585/10000 [33:30<1:36:46,  1.28it/s]"
     ]
    },
    {
     "name": "stdout",
     "output_type": "stream",
     "text": [
      "Error fetching data from https://performance.cityofrc.us/resource/vd8t-gew9.json: HTTPSConnectionPool(host='performance.cityofrc.us', port=443): Max retries exceeded with url: /resource/vd8t-gew9.json (Caused by NewConnectionError('<urllib3.connection.HTTPSConnection object at 0x0000025467246550>: Failed to establish a new connection: [Errno 11001] getaddrinfo failed'))\n"
     ]
    },
    {
     "name": "stderr",
     "output_type": "stream",
     "text": [
      "\r",
      " 26%|███████████████████▍                                                       | 2587/10000 [33:35<3:19:04,  1.61s/it]"
     ]
    },
    {
     "name": "stdout",
     "output_type": "stream",
     "text": [
      "Request to https://www.datos.gov.co/resource/57sv-p2fu.json timed out after 5 seconds.\n"
     ]
    },
    {
     "name": "stderr",
     "output_type": "stream",
     "text": [
      " 27%|████████████████████▏                                                      | 2692/10000 [34:53<4:05:01,  2.01s/it]"
     ]
    },
    {
     "name": "stdout",
     "output_type": "stream",
     "text": [
      "Request to https://data.montgomerycountymd.gov/resource/vpf9-6irq.json timed out after 5 seconds.\n"
     ]
    },
    {
     "name": "stderr",
     "output_type": "stream",
     "text": [
      " 27%|████████████████████▌                                                      | 2742/10000 [35:32<3:45:05,  1.86s/it]"
     ]
    },
    {
     "name": "stdout",
     "output_type": "stream",
     "text": [
      "Request to https://data.cityofchicago.org/resource/ggws-77ih.json timed out after 5 seconds.\n"
     ]
    },
    {
     "name": "stderr",
     "output_type": "stream",
     "text": [
      " 28%|████████████████████▊                                                      | 2768/10000 [35:52<4:29:40,  2.24s/it]"
     ]
    },
    {
     "name": "stdout",
     "output_type": "stream",
     "text": [
      "Request to https://data.pa.gov/resource/dc5b-gebx.json timed out after 5 seconds.\n"
     ]
    },
    {
     "name": "stderr",
     "output_type": "stream",
     "text": [
      " 28%|████████████████████▊                                                      | 2778/10000 [36:01<3:53:22,  1.94s/it]"
     ]
    },
    {
     "name": "stdout",
     "output_type": "stream",
     "text": [
      "Request to https://data.cityofchicago.org/resource/n26f-ihde.json timed out after 5 seconds.\n"
     ]
    },
    {
     "name": "stderr",
     "output_type": "stream",
     "text": [
      " 28%|████████████████████▊                                                      | 2782/10000 [36:08<4:37:08,  2.30s/it]"
     ]
    },
    {
     "name": "stdout",
     "output_type": "stream",
     "text": [
      "Request to https://data.cityofnewyork.us/resource/n6c5-95xh.json timed out after 5 seconds.\n"
     ]
    },
    {
     "name": "stderr",
     "output_type": "stream",
     "text": [
      " 29%|██████████████████████▏                                                      | 2882/10000 [37:19<52:57,  2.24it/s]"
     ]
    },
    {
     "name": "stdout",
     "output_type": "stream",
     "text": [
      "Error fetching data from https://priv-data.ojp.usdoj.gov/resource/jdvc-fysk.json: HTTPSConnectionPool(host='priv-data.ojp.usdoj.gov', port=443): Max retries exceeded with url: /resource/jdvc-fysk.json (Caused by NewConnectionError('<urllib3.connection.HTTPSConnection object at 0x0000025459C54D60>: Failed to establish a new connection: [Errno 11001] getaddrinfo failed'))\n"
     ]
    },
    {
     "name": "stderr",
     "output_type": "stream",
     "text": [
      " 31%|███████████████████████▏                                                   | 3090/10000 [39:27<3:54:47,  2.04s/it]"
     ]
    },
    {
     "name": "stdout",
     "output_type": "stream",
     "text": [
      "Request to https://data.texas.gov/resource/yrkr-maw5.json timed out after 5 seconds.\n"
     ]
    },
    {
     "name": "stderr",
     "output_type": "stream",
     "text": [
      " 32%|███████████████████████▋                                                   | 3159/10000 [40:08<1:37:51,  1.17it/s]"
     ]
    },
    {
     "name": "stdout",
     "output_type": "stream",
     "text": [
      "Error fetching data from https://priv-data.ojp.usdoj.gov/resource/i3xt-vddf.json: HTTPSConnectionPool(host='priv-data.ojp.usdoj.gov', port=443): Max retries exceeded with url: /resource/i3xt-vddf.json (Caused by NewConnectionError('<urllib3.connection.HTTPSConnection object at 0x000002541646CD60>: Failed to establish a new connection: [Errno 11001] getaddrinfo failed'))\n"
     ]
    },
    {
     "name": "stderr",
     "output_type": "stream",
     "text": [
      " 32%|████████████████████████▏                                                  | 3218/10000 [40:50<3:34:23,  1.90s/it]"
     ]
    },
    {
     "name": "stdout",
     "output_type": "stream",
     "text": [
      "Request to https://www.datos.gov.co/resource/cwhv-7fnp.json timed out after 5 seconds.\n"
     ]
    },
    {
     "name": "stderr",
     "output_type": "stream",
     "text": [
      " 32%|████████████████████████▎                                                  | 3245/10000 [41:10<1:31:27,  1.23it/s]"
     ]
    },
    {
     "name": "stdout",
     "output_type": "stream",
     "text": [
      "Error fetching data from https://priv-data.ojp.usdoj.gov/resource/5fdt-n5ne.json: HTTPSConnectionPool(host='priv-data.ojp.usdoj.gov', port=443): Max retries exceeded with url: /resource/5fdt-n5ne.json (Caused by NewConnectionError('<urllib3.connection.HTTPSConnection object at 0x0000025467246220>: Failed to establish a new connection: [Errno 11001] getaddrinfo failed'))\n"
     ]
    },
    {
     "name": "stderr",
     "output_type": "stream",
     "text": [
      " 34%|█████████████████████████▌                                                 | 3416/10000 [42:56<3:24:14,  1.86s/it]"
     ]
    },
    {
     "name": "stdout",
     "output_type": "stream",
     "text": [
      "Request to https://datahub.austintexas.gov/resource/xp28-5kft.json timed out after 5 seconds.\n"
     ]
    },
    {
     "name": "stderr",
     "output_type": "stream",
     "text": [
      " 34%|█████████████████████████▊                                                 | 3439/10000 [43:11<1:17:52,  1.40it/s]"
     ]
    },
    {
     "name": "stdout",
     "output_type": "stream",
     "text": [
      "Error fetching data from https://priv-data.ojp.usdoj.gov/resource/e882-m97r.json: HTTPSConnectionPool(host='priv-data.ojp.usdoj.gov', port=443): Max retries exceeded with url: /resource/e882-m97r.json (Caused by NewConnectionError('<urllib3.connection.HTTPSConnection object at 0x000002541646C6D0>: Failed to establish a new connection: [Errno 11001] getaddrinfo failed'))\n"
     ]
    },
    {
     "name": "stderr",
     "output_type": "stream",
     "text": [
      " 35%|██████████████████████████▋                                                  | 3465/10000 [43:25<49:18,  2.21it/s]"
     ]
    },
    {
     "name": "stdout",
     "output_type": "stream",
     "text": [
      "Error fetching data from https://data.miamigov.com/resource/6q9s-asrs.json: HTTPSConnectionPool(host='data.miamigov.com', port=443): Max retries exceeded with url: /resource/6q9s-asrs.json (Caused by NewConnectionError('<urllib3.connection.HTTPSConnection object at 0x000002541646C6D0>: Failed to establish a new connection: [Errno 11001] getaddrinfo failed'))\n"
     ]
    },
    {
     "name": "stderr",
     "output_type": "stream",
     "text": [
      " 35%|██████████████████████████                                                 | 3482/10000 [43:37<3:23:34,  1.87s/it]"
     ]
    },
    {
     "name": "stdout",
     "output_type": "stream",
     "text": [
      "Request to https://data.ny.gov/resource/aee3-5gf5.json timed out after 5 seconds.\n",
      "Error fetching data from https://priv-data.ojp.usdoj.gov/resource/gcuy-rt5g.json: HTTPSConnectionPool(host='priv-data.ojp.usdoj.gov', port=443): Max retries exceeded with url: /resource/gcuy-rt5g.json (Caused by NewConnectionError('<urllib3.connection.HTTPSConnection object at 0x00000254178DBAC0>: Failed to establish a new connection: [Errno 11001] getaddrinfo failed'))\n"
     ]
    },
    {
     "name": "stderr",
     "output_type": "stream",
     "text": [
      " 35%|██████████████████████████▏                                                | 3487/10000 [43:45<3:45:39,  2.08s/it]"
     ]
    },
    {
     "name": "stdout",
     "output_type": "stream",
     "text": [
      "Request to https://data.edmonton.ca/resource/tq23-qn4m.json timed out after 5 seconds.\n"
     ]
    },
    {
     "name": "stderr",
     "output_type": "stream",
     "text": [
      " 35%|███████████████████████████▏                                                 | 3533/10000 [44:20<51:39,  2.09it/s]"
     ]
    },
    {
     "name": "stdout",
     "output_type": "stream",
     "text": [
      "Error fetching data from https://priv-data.ojp.usdoj.gov/resource/7syt-ki9g.json: HTTPSConnectionPool(host='priv-data.ojp.usdoj.gov', port=443): Max retries exceeded with url: /resource/7syt-ki9g.json (Caused by NewConnectionError('<urllib3.connection.HTTPSConnection object at 0x0000025459C54CD0>: Failed to establish a new connection: [Errno 11001] getaddrinfo failed'))\n"
     ]
    },
    {
     "name": "stderr",
     "output_type": "stream",
     "text": [
      " 36%|██████████████████████████▋                                                | 3554/10000 [44:32<1:05:49,  1.63it/s]"
     ]
    },
    {
     "name": "stdout",
     "output_type": "stream",
     "text": [
      "Error fetching data from https://priv-data.ojp.usdoj.gov/resource/imsf-b5s7.json: HTTPSConnectionPool(host='priv-data.ojp.usdoj.gov', port=443): Max retries exceeded with url: /resource/imsf-b5s7.json (Caused by NewConnectionError('<urllib3.connection.HTTPSConnection object at 0x0000025459C545E0>: Failed to establish a new connection: [Errno 11001] getaddrinfo failed'))\n"
     ]
    },
    {
     "name": "stderr",
     "output_type": "stream",
     "text": [
      " 36%|███████████████████████████▌                                                 | 3572/10000 [44:40<41:54,  2.56it/s]"
     ]
    },
    {
     "name": "stdout",
     "output_type": "stream",
     "text": [
      "Error fetching data from https://priv-data.ojp.usdoj.gov/resource/ak2j-ub9q.json: HTTPSConnectionPool(host='priv-data.ojp.usdoj.gov', port=443): Max retries exceeded with url: /resource/ak2j-ub9q.json (Caused by NewConnectionError('<urllib3.connection.HTTPSConnection object at 0x0000025459C54DF0>: Failed to establish a new connection: [Errno 11001] getaddrinfo failed'))\n"
     ]
    },
    {
     "name": "stderr",
     "output_type": "stream",
     "text": [
      " 36%|████████████████████████████                                                 | 3638/10000 [45:13<53:01,  2.00it/s]"
     ]
    },
    {
     "name": "stdout",
     "output_type": "stream",
     "text": [
      "Error fetching data from https://priv-data.ojp.usdoj.gov/resource/esbe-p7rh.json: HTTPSConnectionPool(host='priv-data.ojp.usdoj.gov', port=443): Max retries exceeded with url: /resource/esbe-p7rh.json (Caused by NewConnectionError('<urllib3.connection.HTTPSConnection object at 0x0000025459C54E50>: Failed to establish a new connection: [Errno 11001] getaddrinfo failed'))\n"
     ]
    },
    {
     "name": "stderr",
     "output_type": "stream",
     "text": [
      " 38%|████████████████████████████▌                                              | 3813/10000 [47:04<3:11:12,  1.85s/it]"
     ]
    },
    {
     "name": "stdout",
     "output_type": "stream",
     "text": [
      "Request to https://data.ny.gov/resource/ku8b-uzf5.json timed out after 5 seconds.\n"
     ]
    },
    {
     "name": "stderr",
     "output_type": "stream",
     "text": [
      " 40%|█████████████████████████████▉                                             | 3991/10000 [49:00<3:14:32,  1.94s/it]"
     ]
    },
    {
     "name": "stdout",
     "output_type": "stream",
     "text": [
      "Request to https://data.cityofnewyork.us/resource/c9sj-fmsg.json timed out after 5 seconds.\n"
     ]
    },
    {
     "name": "stderr",
     "output_type": "stream",
     "text": [
      " 41%|██████████████████████████████▌                                            | 4074/10000 [49:55<3:17:55,  2.00s/it]"
     ]
    },
    {
     "name": "stdout",
     "output_type": "stream",
     "text": [
      "Request to https://data.montgomerycountymd.gov/resource/pv7j-pdxw.json timed out after 5 seconds.\n"
     ]
    },
    {
     "name": "stderr",
     "output_type": "stream",
     "text": [
      "\r",
      " 41%|██████████████████████████████▌                                            | 4075/10000 [49:55<2:39:34,  1.62s/it]"
     ]
    },
    {
     "name": "stdout",
     "output_type": "stream",
     "text": [
      "Error fetching data from https://data.miamigov.com/resource/kyut-b7du.json: HTTPSConnectionPool(host='data.miamigov.com', port=443): Max retries exceeded with url: /resource/kyut-b7du.json (Caused by NewConnectionError('<urllib3.connection.HTTPSConnection object at 0x0000025459C54DC0>: Failed to establish a new connection: [Errno 11001] getaddrinfo failed'))\n"
     ]
    },
    {
     "name": "stderr",
     "output_type": "stream",
     "text": [
      " 41%|██████████████████████████████▉                                            | 4133/10000 [50:36<3:09:50,  1.94s/it]"
     ]
    },
    {
     "name": "stdout",
     "output_type": "stream",
     "text": [
      "Request to https://health.data.ny.gov/resource/jizq-disf.json timed out after 5 seconds.\n"
     ]
    },
    {
     "name": "stderr",
     "output_type": "stream",
     "text": [
      " 42%|████████████████████████████████▋                                            | 4243/10000 [51:44<43:33,  2.20it/s]"
     ]
    },
    {
     "name": "stdout",
     "output_type": "stream",
     "text": [
      "Error fetching data from https://priv-data.ojp.usdoj.gov/resource/a3x8-ymyv.json: HTTPSConnectionPool(host='priv-data.ojp.usdoj.gov', port=443): Max retries exceeded with url: /resource/a3x8-ymyv.json (Caused by NewConnectionError('<urllib3.connection.HTTPSConnection object at 0x0000025459C54C10>: Failed to establish a new connection: [Errno 11001] getaddrinfo failed'))\n"
     ]
    },
    {
     "name": "stderr",
     "output_type": "stream",
     "text": [
      " 43%|█████████████████████████████████                                            | 4287/10000 [52:08<54:24,  1.75it/s]"
     ]
    },
    {
     "name": "stdout",
     "output_type": "stream",
     "text": [
      "Error fetching data from https://priv-data.ojp.usdoj.gov/resource/kwm9-bqsn.json: HTTPSConnectionPool(host='priv-data.ojp.usdoj.gov', port=443): Max retries exceeded with url: /resource/kwm9-bqsn.json (Caused by NewConnectionError('<urllib3.connection.HTTPSConnection object at 0x0000025467246130>: Failed to establish a new connection: [Errno 11001] getaddrinfo failed'))\n"
     ]
    },
    {
     "name": "stderr",
     "output_type": "stream",
     "text": [
      " 44%|████████████████████████████████▊                                          | 4378/10000 [53:06<3:19:41,  2.13s/it]"
     ]
    },
    {
     "name": "stdout",
     "output_type": "stream",
     "text": [
      "Request to https://data.norfolk.gov/resource/wqxq-hhe6.json timed out after 5 seconds.\n"
     ]
    },
    {
     "name": "stderr",
     "output_type": "stream",
     "text": [
      " 45%|█████████████████████████████████▊                                         | 4504/10000 [54:22<3:17:16,  2.15s/it]"
     ]
    },
    {
     "name": "stdout",
     "output_type": "stream",
     "text": [
      "Request to https://bythenumbers.sco.ca.gov/resource/ju3w-4gxp.json timed out after 5 seconds.\n"
     ]
    },
    {
     "name": "stderr",
     "output_type": "stream",
     "text": [
      " 46%|███████████████████████████████████▌                                         | 4625/10000 [55:18<35:06,  2.55it/s]"
     ]
    },
    {
     "name": "stdout",
     "output_type": "stream",
     "text": [
      "Error fetching data from https://performance.cityofrc.us/resource/6ad2-q4p2.json: HTTPSConnectionPool(host='performance.cityofrc.us', port=443): Max retries exceeded with url: /resource/6ad2-q4p2.json (Caused by NewConnectionError('<urllib3.connection.HTTPSConnection object at 0x00000254672461F0>: Failed to establish a new connection: [Errno 11001] getaddrinfo failed'))\n"
     ]
    },
    {
     "name": "stderr",
     "output_type": "stream",
     "text": [
      " 47%|███████████████████████████████████                                        | 4670/10000 [55:51<2:56:16,  1.98s/it]"
     ]
    },
    {
     "name": "stdout",
     "output_type": "stream",
     "text": [
      "Request to https://data.cityofchicago.org/resource/cygx-ui4j.json timed out after 5 seconds.\n"
     ]
    },
    {
     "name": "stderr",
     "output_type": "stream",
     "text": [
      " 48%|███████████████████████████████████▋                                       | 4761/10000 [56:54<2:40:11,  1.83s/it]"
     ]
    },
    {
     "name": "stdout",
     "output_type": "stream",
     "text": [
      "Request to https://data.norfolk.gov/resource/nbyu-xjez.json timed out after 5 seconds.\n"
     ]
    },
    {
     "name": "stderr",
     "output_type": "stream",
     "text": [
      " 48%|███████████████████████████████████▋                                       | 4766/10000 [56:56<1:02:49,  1.39it/s]"
     ]
    },
    {
     "name": "stdout",
     "output_type": "stream",
     "text": [
      "Error fetching data from https://priv-data.ojp.usdoj.gov/resource/r4j4-fdwx.json: HTTPSConnectionPool(host='priv-data.ojp.usdoj.gov', port=443): Max retries exceeded with url: /resource/r4j4-fdwx.json (Caused by NewConnectionError('<urllib3.connection.HTTPSConnection object at 0x00000254672468B0>: Failed to establish a new connection: [Errno 11001] getaddrinfo failed'))\n"
     ]
    },
    {
     "name": "stderr",
     "output_type": "stream",
     "text": [
      " 48%|███████████████████████████████████▊                                       | 4783/10000 [57:11<2:46:34,  1.92s/it]"
     ]
    },
    {
     "name": "stdout",
     "output_type": "stream",
     "text": [
      "Request to https://datacatalog.cookcountyil.gov/resource/7pny-nedm.json timed out after 5 seconds.\n"
     ]
    },
    {
     "name": "stderr",
     "output_type": "stream",
     "text": [
      " 50%|█████████████████████████████████████▎                                     | 4970/10000 [59:15<2:34:22,  1.84s/it]"
     ]
    },
    {
     "name": "stdout",
     "output_type": "stream",
     "text": [
      "Request to https://data.ct.gov/resource/um73-fxm4.json timed out after 5 seconds.\n"
     ]
    },
    {
     "name": "stderr",
     "output_type": "stream",
     "text": [
      " 51%|█████████████████████████████████████▉                                     | 5066/10000 [1:00:07<38:12,  2.15it/s]"
     ]
    },
    {
     "name": "stdout",
     "output_type": "stream",
     "text": [
      "Error fetching data from https://performance.cityofrc.us/resource/csg5-5s49.json: HTTPSConnectionPool(host='performance.cityofrc.us', port=443): Max retries exceeded with url: /resource/csg5-5s49.json (Caused by NewConnectionError('<urllib3.connection.HTTPSConnection object at 0x00000254672468B0>: Failed to establish a new connection: [Errno 11001] getaddrinfo failed'))\n"
     ]
    },
    {
     "name": "stderr",
     "output_type": "stream",
     "text": [
      " 51%|██████████████████████████████████████▍                                    | 5117/10000 [1:01:00<39:04,  2.08it/s]"
     ]
    },
    {
     "name": "stdout",
     "output_type": "stream",
     "text": [
      "Error fetching data from https://priv-data.ojp.usdoj.gov/resource/qiz2-ifwz.json: HTTPSConnectionPool(host='priv-data.ojp.usdoj.gov', port=443): Max retries exceeded with url: /resource/qiz2-ifwz.json (Caused by NewConnectionError('<urllib3.connection.HTTPSConnection object at 0x0000025467246550>: Failed to establish a new connection: [Errno 11001] getaddrinfo failed'))\n"
     ]
    },
    {
     "name": "stderr",
     "output_type": "stream",
     "text": [
      " 52%|██████████████████████████████████████▊                                    | 5175/10000 [1:01:30<42:18,  1.90it/s]"
     ]
    },
    {
     "name": "stdout",
     "output_type": "stream",
     "text": [
      "Error fetching data from https://priv-data.ojp.usdoj.gov/resource/gkck-euys.json: HTTPSConnectionPool(host='priv-data.ojp.usdoj.gov', port=443): Max retries exceeded with url: /resource/gkck-euys.json (Caused by NewConnectionError('<urllib3.connection.HTTPSConnection object at 0x00000254672460A0>: Failed to establish a new connection: [Errno 11001] getaddrinfo failed'))\n"
     ]
    },
    {
     "name": "stderr",
     "output_type": "stream",
     "text": [
      " 53%|███████████████████████████████████████▌                                   | 5274/10000 [1:02:25<31:41,  2.49it/s]"
     ]
    },
    {
     "name": "stdout",
     "output_type": "stream",
     "text": [
      "Error fetching data from https://priv-data.ojp.usdoj.gov/resource/ya4e-n9zp.json: HTTPSConnectionPool(host='priv-data.ojp.usdoj.gov', port=443): Max retries exceeded with url: /resource/ya4e-n9zp.json (Caused by NewConnectionError('<urllib3.connection.HTTPSConnection object at 0x00000254672466D0>: Failed to establish a new connection: [Errno 11001] getaddrinfo failed'))\n"
     ]
    },
    {
     "name": "stderr",
     "output_type": "stream",
     "text": [
      " 53%|██████████████████████████████████████▊                                  | 5310/10000 [1:02:55<2:23:17,  1.83s/it]"
     ]
    },
    {
     "name": "stdout",
     "output_type": "stream",
     "text": [
      "Request to https://data.cityofnewyork.us/resource/quxm-hmyr.json timed out after 5 seconds.\n"
     ]
    },
    {
     "name": "stderr",
     "output_type": "stream",
     "text": [
      " 53%|██████████████████████████████████████▉                                  | 5339/10000 [1:03:14<2:26:20,  1.88s/it]"
     ]
    },
    {
     "name": "stdout",
     "output_type": "stream",
     "text": [
      "Request to https://data.ny.gov/resource/bjcb-yee3.json timed out after 5 seconds.\n"
     ]
    },
    {
     "name": "stderr",
     "output_type": "stream",
     "text": [
      " 55%|████████████████████████████████████████▏                                | 5501/10000 [1:04:56<2:33:49,  2.05s/it]"
     ]
    },
    {
     "name": "stdout",
     "output_type": "stream",
     "text": [
      "Request to https://data.cdc.gov/resource/e28h-tx85.json timed out after 5 seconds.\n"
     ]
    },
    {
     "name": "stderr",
     "output_type": "stream",
     "text": [
      " 57%|█████████████████████████████████████████▉                               | 5738/10000 [1:08:13<2:29:55,  2.11s/it]"
     ]
    },
    {
     "name": "stdout",
     "output_type": "stream",
     "text": [
      "Request to https://datahub.usaid.gov/resource/a34s-3yxd.json timed out after 5 seconds.\n"
     ]
    },
    {
     "name": "stderr",
     "output_type": "stream",
     "text": [
      " 58%|███████████████████████████████████████████▋                               | 5826/10000 [1:09:13<33:29,  2.08it/s]"
     ]
    },
    {
     "name": "stdout",
     "output_type": "stream",
     "text": [
      "Error fetching data from https://priv-data.ojp.usdoj.gov/resource/vigs-nsnz.json: HTTPSConnectionPool(host='priv-data.ojp.usdoj.gov', port=443): Max retries exceeded with url: /resource/vigs-nsnz.json (Caused by NewConnectionError('<urllib3.connection.HTTPSConnection object at 0x0000025459C54DC0>: Failed to establish a new connection: [Errno 11001] getaddrinfo failed'))\n"
     ]
    },
    {
     "name": "stderr",
     "output_type": "stream",
     "text": [
      " 59%|██████████████████████████████████████████▊                              | 5864/10000 [1:09:41<2:34:54,  2.25s/it]"
     ]
    },
    {
     "name": "stdout",
     "output_type": "stream",
     "text": [
      "Request to https://data.cityofnewyork.us/resource/qmh3-uvgq.json timed out after 5 seconds.\n"
     ]
    },
    {
     "name": "stderr",
     "output_type": "stream",
     "text": [
      " 59%|████████████████████████████████████████████▏                              | 5886/10000 [1:09:51<33:37,  2.04it/s]"
     ]
    },
    {
     "name": "stdout",
     "output_type": "stream",
     "text": [
      "Error fetching data from https://stat.montgomerycountymd.gov/resource/4wau-rn5x.json: [Errno Expecting value] \r\n",
      "<!DOCTYPE html>\r\n",
      "<html xmlns=\"http://www.w3.org/1999/xhtml\" lang=\"en\" xml:lang=\"en\">\r\n",
      "<head id=\"ctl00_Head1\"><title>\r\n",
      "\tCountyStat Home Page - Office of Management and Budget - Montgomery County, Maryland\r\n",
      "</title><meta http-equiv=\"Content-Type\" content=\"text/html; charset=utf-8\" /><meta name=\"viewport\" content=\"width=device-width, initial-scale=1.0\" /><meta http-equiv=\"X-UA-Compatible\" content=\"IE=Edge\" />    \r\n",
      "\t<script async src=\"https://www.googletagmanager.com/gtag/js?id=G-K9STEFSE4V\"></script>\r\n",
      "\t<link rel=\"stylesheet\" href=\"https://cdnjs.cloudflare.com/ajax/libs/font-awesome/6.4.2/css/all.min.css\" integrity=\"sha512-z3gLpd7yknf1YoNbCzqRKc4qyor8gaKU1qmn+CShxbuBusANI9QpRohGBreCFkKxLhei6S9CQXFEbbKuqLg0DA==\" crossorigin=\"anonymous\" referrerpolicy=\"no-referrer\" /><link rel=\"stylesheet\" href=\"//maxcdn.bootstrapcdn.com/font-awesome/4.4.0/css/font-awesome.min.css\" />\r\n",
      "    <script src=\"/_themeMCG/assets/js/jquery-3.5.1.min.js\"></script>\r\n",
      "    <script src=\"/_themeMCG/assets/js/bootstrap.min.js\"></script>\r\n",
      "\t<script src=\"https://ssl.google-analytics.com/ga.js\"></script>\r\n",
      "    <link rel=\"stylesheet\" href=\"/_themeMCG/assets/css/bootstrap.min.css\" /><link href=\"/_themeMCG/assets/css/width-full.css\" rel=\"stylesheet\" title=\"default\" /><link href=\"/_themeMCG/assets/css/animate.css\" rel=\"stylesheet\" title=\"default\" /><link href=\"/_themeMCG/assets/css/style-mcg.css\" rel=\"stylesheet\" title=\"default\" /><link href=\"/_themeMCG/assets/js/bxslider4.2.15/jquery.bxslider.min.css\" rel=\"stylesheet\" />\r\n",
      "    <script src=\"/_themeMCG/assets/js/bxslider4.2.15/jquery.bxslider.min.js\" type=\"text/javascript\"></script>    \r\n",
      "    <link href=\"/Common/Styles/mcgmain.css\" rel=\"stylesheet\" />        \r\n",
      "    <script src=\"/Common/Scripts/GoogleAnalytics.js?vr=202310091126\" type=\"text/javascript\"></script>\r\n",
      "\t<script src=\"/Common/Scripts/gSearch.min.js?vr=1.0\" type=\"text/javascript\"></script>\r\n",
      "    <link href=\"/Common/Styles/accessibility.css\" rel=\"stylesheet\" /><meta name=\"keywords\" /><meta name=\"description\" content=\"CountyStat is a program within the Montgomery County Office of Management and Budget, ensuring government transparency, a culture of accountability, and data-driven performance.\" /></head>\r\n",
      "<body>\r\n",
      "    <div id=\"mcgpage\">\r\n",
      "        <a href=\"#mcgmaincontent\" class=\"sr-only sr-only-focusable\">Skip to main content</a>\r\n",
      "\t\t<style>\r\n",
      "section .MCGCovidAlert {\r\n",
      "               font-family: \"Lato\", sans-serif;\r\n",
      "               color: inherit;\r\n",
      "               font-weight: 400;\r\n",
      "               line-height: 120%;\r\n",
      "               padding: 15px;\r\n",
      "               margin-bottom: 0;\r\n",
      "}\r\n",
      "section .MCGCovidAlert__msg1 {font-size: 2em; font-weight:800; margin-top:14px; margin-bottom:4px; }\r\n",
      "section .MCGCovidAlert__msg2 {font-size: 1.2em;}\r\n",
      "section .MCGCovidAlert .alert i {1.2em; margin-right: 5px;}\r\n",
      "</style>\r\n",
      "<!--\r\n",
      "<section class=\"alert-royal text-center MCGCovidAlertalert\" aria-label=\"County COVID-19 alert\">\r\n",
      "               <p class=\"MCGCovidAlert__msg1\"><a href=\"https://montgomerycountymd.gov/covid19\"><i class=\"fa fa-exclamation-circle\"></i> COVID-19 Updates</a></p>                       \r\n",
      "               <p class=\"MCGCovidAlert__msg2\"><a href=\"https://montgomerycountymd.gov/covid19/vaccine/\">Vaccine and Booster Information</a></p>\r\n",
      "</section>\r\n",
      "-->\r\n",
      "    \r\n",
      "    \r\n",
      "    <!--<div class=\"alert alert-royal\" style=\"text-align: center;margin-bottom:0px\">\r\n",
      "\t<h2><a href=\"https://montgomerycountymd.gov/covid19\" style=\"font-weight:600;\"><i class=\"fa fa-exclamation-circle fa-4x\"></i> COVID-19 Updates</a></h2>\t \t\r\n",
      "\t\t<h5><a href=\"https://www.montgomerycountymd.gov/covid19-reopening\">Reopening Guidelines</a></h5>\r\n",
      "\t</div>-->\r\n",
      "\r\n",
      "        <div id=\"mcgheader\" tabindex=\"-1\">\r\n",
      "            <link rel=\"stylesheet\" type=\"text/css\" href=\"/Common/Styles/mcg-colors.css\">\r\n",
      "<link rel=\"stylesheet\" type=\"text/css\" href=\"/Common/Styles/mcg-stylesheet.css\">\r\n",
      "<link rel=\"stylesheet\" type=\"text/css\" href=\"/Common/Styles/mcg-v2-template-transitional-styles.css\">\r\n",
      "<link rel=\"stylesheet\" type=\"text/css\" href=\"/Common/Styles/mcg-bootstrap-5.css\">\r\n",
      "<link rel=\"stylesheet\" type=\"text/css\" href=\"/Common/Styles/mcg-header-with-google-translate-widget.css\">\r\n",
      "\r\n",
      "<!-- UNCOMMENT TO USE THE MCG FEEDBACK BUTTON \r\n",
      "<link rel=\"stylesheet\" type=\"text/css\" href=\"/Common/Styles/mcg-feedback-styles.css\">\r\n",
      "-->\r\n",
      "\r\n",
      "<style>\r\n",
      "/*====================================*/\r\n",
      "/*=== STYLES SPECIFIC TO THIS SITE ===*/\r\n",
      "/*====================================*/\r\n",
      "\r\n",
      "/* to avoid top nav wrapping */\r\n",
      "/*\r\n",
      "@media (min-width: 992px) and (max-width: 1199px) { \r\n",
      "    #mcg-site-nav--links li {\r\n",
      "        margin: 0 -4px;\r\n",
      "    }\r\n",
      "    #mcg-site-nav--links a {\r\n",
      "        padding: 15px 6px;\r\n",
      "    }\r\n",
      "}\r\n",
      "*/\r\n",
      "\r\n",
      ".mcg-header-branding__tagline {font-size: 1rem;display:block;font-weight: normal;}\r\n",
      "@media (min-width: 992px) {\r\n",
      "    .mcg-header-branding__tagline {font-size: 1.2rem;}\r\n",
      "\r\n",
      "}\r\n",
      "\r\n",
      "hr.divider {    border-top: 1px solid var(--mcg-gray-6);}\r\n",
      "\r\n",
      ".cs-footer-tagline {\r\n",
      "    text-align:center;\r\n",
      "    margin: 0 auto; \r\n",
      "    width: 80%;\r\n",
      "}\r\n",
      "    \r\n",
      "</style>\r\n",
      "\r\n",
      "\r\n",
      "\r\n",
      "<!----- BEGIN HEADER ----->\r\n",
      "<header class=\"mb-3\" aria-label=\"County and department\">\r\n",
      "\r\n",
      "<section class=\"fluid-container mcg-bg-gray-1\">\r\n",
      "    <div class=\"container\">\r\n",
      "        <div class=\"mcg-official-site py-1\">\r\n",
      "            <span class=\"hidden-xs\">\r\n",
      "                An official website of <a href=\"https://www.montgomerycountymd.gov/\" target=\"_blank\">Montgomery County, Maryland</a>\r\n",
      "            </span>\r\n",
      "            <span class=\"visible-xs\">\r\n",
      "                An official website of<br/> <a href=\"https://www.montgomerycountymd.gov/\" target=\"_blank\">Montgomery County, Maryland</a>\r\n",
      "            </span>\r\n",
      "            <span class=\"mcg-official-site__mc311\"><a href=\"https://www.montgomerycountymd.gov/mc311\" target=\"_blank\">MC311</a></span>\r\n",
      "            </span>\r\n",
      "        </div>\r\n",
      "    </div>\r\n",
      "</section>\r\n",
      "\r\n",
      "<div class=\"container\">\r\n",
      "    <div class=\"mcg-header-elements mt-1 mb-3\">\r\n",
      "        <!-- mcg-header-branding -->\r\n",
      "        <div class=\"mcg-header-branding\">\r\n",
      "            <div class=\"mcg-header-branding__logo\" id=\"mcgSiteLogo\">            \r\n",
      "               <img src=\"/countystat/Resources/Images/header/countystat-logo.png\" alt=\"CountyStat logo\">\r\n",
      "            </div>\r\n",
      "            <div class=\"mcg-header-branding__text\" id=\"mcgSiteName\">\r\n",
      "                <a href=\"/countystat/main.html\">Montgomery County CountyStat</a>\r\n",
      "                <span class=\"mcg-header-branding__tagline\">Office of Management and Budget</span>\r\n",
      "            </div>\r\n",
      "\r\n",
      "        </div>\r\n",
      "    \r\n",
      "        <!-- mcg-header-utilities -->\r\n",
      "        <div class=\"mcg-header-utilities\">\r\n",
      "            <div class=\"hidden-md hidden-lg\">\r\n",
      "                <button type=\"button\" id=\"hamburger-menu\" class=\"mcg-mobile-header-icon\" aria-label=\"open navigation and translation\"  aria-controls=\"mcg-site-nav--links\" aria-expanded=\"false\">\r\n",
      "                    <i class=\"fa fa-bars fa-fw\" aria-hidden=\"true\"></i><i aria-hidden=\"true\" class=\"fa-solid fa-globe\"></i>\r\n",
      "                </button>\r\n",
      "            </div>\r\n",
      "            <!-- Keep this div empty for the Google custom search -->\r\n",
      "            <div id=\"searchCustom\"></div>\r\n",
      "        </div>\r\n",
      "    </div><!-- end class=\"mcg-header-elements -->\r\n",
      "</div>\r\n",
      "\r\n",
      "<!----- BEGIN TOP NAVIGATION ----->\r\n",
      "<nav aria-label=\"Site\" role=\"navigation\" id=\"mcg-site-nav\">\r\n",
      "    <div class=\"container\">\r\n",
      "        <div id=\"slide-nav\" class=\"slide-content slide-content--right\">\r\n",
      "            <button type=\"button\" id=\"close\" class=\"close-btn\" aria-label=\"close navigation\">&times;</button>\r\n",
      "            <div class=\"mcg-header-translation-widget\">\r\n",
      "                <label class=\"me-1\" for=\"translateID\">Translate</label>\r\n",
      "                <div id=\"google_translate_element\"></div>\r\n",
      "            </div>\r\n",
      "        <ul id=\"mcg-site-nav--links\">\r\n",
      "                <li class=\"hidden-xs hidden-sm\"><a href=\"/countystat/main.html\" aria-label=\"CountyStat home\"><i class=\"fa fa-home\" aria-hidden=\"true\"></i></a></li>\r\n",
      "                <li class=\"hidden-md hidden-lg\"><a href=\"/countystat/main.html\">CountyStat Home</a></li>\r\n",
      "                <li><a href=\"/countystat/dept_performance.html\">Department Performance</a></li>\r\n",
      "                <li><a href=\"/countystat/community_insights.html\">Community Insights</a></li>\r\n",
      "                <li><a href=\"/countystat/proj_and_prod.html\">Projects and Products</a></li>\r\n",
      "                <li><a href=\"/countystat/about.html\">About Us</a></li>\r\n",
      "\r\n",
      "            </ul>\r\n",
      "        </div>\r\n",
      "    </div>\r\n",
      "</nav>\r\n",
      "<!----- END TOP NAVIGATION ----->\r\n",
      "\r\n",
      "</header>\r\n",
      "<!----- END HEADER ----->\r\n",
      "\r\n",
      "<script>\r\n",
      "     $(document).ready(function () {\r\n",
      "         $(\"#searchCustom\").googleSearchBox({ resultURL: \"https://montgomerycountymd.gov/mcgresponsive/newsearch.html\" });\r\n",
      "         //$('#txtSearchbox').val('Enter keyword(s) or phrase')\r\n",
      "         //Clear the default value when input box is in focus.\r\n",
      "         $('input:text').focus(function () {\r\n",
      "             $(this).val('');\r\n",
      "         });\r\n",
      "\r\n",
      "         // replace Search text on button with magnifier icon\r\n",
      "         $(\"#btnSearchBox\").html('<i class=\"fa fa-search\" aria-hidden=\"true\"></i><span class=\"sr-only\">Search</span>');\r\n",
      "     });\r\n",
      "</script>\r\n",
      "        </div>\r\n",
      "        <div id=\"mcgmenu\">\r\n",
      "               <!-- REMOVE MenuBar -->\r\n",
      "        </div>        \r\n",
      "            <div id=\"mcgcontentheader\">\r\n",
      "                \r\n",
      "                <!--<div class=\"container\"></div>-->\r\n",
      "            </div>\r\n",
      "\t\t\t<div id=\"mcgmaincontent\" role=\"main\" tabindex=\"-1\">\r\n",
      "\t\t\t\t\r\n",
      "\t\t\t\t    \t\t\n",
      "\t\t\n",
      "<div class=\"container\">\n",
      "    <p style=\"font-size:larger;\">\n",
      "        <strong>CountyStat is the performance management and data analytics team for Montgomery County (MD) Government</strong>. Established in 2007 under the Office of County Executive and shifted to the Office of Management and Budget in 2020, CountyStat uses an outcome-focused performance framework to strategically monitor, assess, and improve the effectiveness and efficiency of County services. Employing analytics skills and tools, CountyStat leverages administrative and public data to help County departments solve problems and develop targeted action plans and strategies to deliver results for our residents.\n",
      "    </p>\n",
      "    <p style=\"font-size:larger;\">Collectively, our work is designed to ensure, on behalf of County leadership, the development and growth of a culture of “managing for results” in Montgomery County.</p>\n",
      "    <ul class=\"row mcg-card-group mt-4\">\n",
      "        <li class=\"col-md-4 col-sm-6\">\n",
      "            <a class=\"mcg-card\" href=\"/countystat/dept_performance.html\">\n",
      "                <span class=\"mcg-card__text\">\n",
      "                    <span class=\"mcg-card__header h3\">Department Performance      </span>\n",
      "                    <span class=\"mcg-card__description\">Access County Government performance dashboards and plans</span>\n",
      "                </span>\n",
      "                <span class=\"mcg-card__image\">\n",
      "                    <img alt=\"Keyboard with Performance Management\" class=\"center-block img-responsive\" src=\"/countystat/Resources/Images/perform-banner-600x400.jpg\" style=\"width: 100%; height: 230px;\" />\n",
      "                </span>\n",
      "            </a>\n",
      "        </li>\n",
      "        <li class=\"col-md-4 col-sm-6\">\n",
      "            <a class=\"mcg-card\" href=\"https://www.montgomerycountymd.gov/countystat/program-inventory/index.html\">\n",
      "                <span class=\"mcg-card__text\">\n",
      "                    <span class=\"mcg-card__header h3\">New: ProgramPulse</span>\n",
      "                    <span class=\"mcg-card__description\">Comprehensive Program Inventory Initiative: Enhancing performance and accountability    </span>\n",
      "                </span>\n",
      "                <span class=\"mcg-card__image\">\n",
      "                    <img alt=\"Aerial photo of a neighborhood community. \" class=\"center-block img-responsive\" src=\"/countystat/Resources/Images/af%20housing.PNG\" style=\"width: 100%; height: 230px;\" />\n",
      "                </span>\n",
      "            </a>\n",
      "        </li>\n",
      "        <li class=\"col-md-4 col-sm-6\">\n",
      "            <a class=\"mcg-card\" href=\"https://www.montgomerycountymd.gov/countystat/tell-our-story-initiative.html\">\n",
      "                <span class=\"mcg-card__text\">\n",
      "                    <span class=\"mcg-card__header h3\">Telling Our Organizational Success Story</span>\n",
      "                    <span class=\"mcg-card__description\">Discover how employees have improved government services.</span>\n",
      "                </span>\n",
      "                <span class=\"mcg-card__image\">\n",
      "                    <img alt=\"Tell Our Story-Flash Bus Services.\" class=\"center-block img-responsive\" src=\"/countystat/Resources/Images/Capture3.PNG\" style=\"width: 100%; height: 230px;\" />\n",
      "                </span>\n",
      "            </a>\n",
      "        </li>\n",
      "    </ul>\n",
      "    <h2 class=\"right-line\">Featured Projects</h2>\n",
      "    <ul class=\"row mcg-card-group mt-4\">\n",
      "        <li class=\"col-md-4 col-sm-6\">\n",
      "            <a class=\"mcg-card\" href=\"/countystat/services_performance.html\">\n",
      "                <span class=\"mcg-card__text\">\n",
      "                    <span class=\"mcg-card__header h3\">Service Performance</span>\n",
      "                    <span class=\"mcg-card__description\">CountyStat reviews the entire catalog of services provided by the CountyGovernment, and considers revisions to performance standards to take effect at the start of each new fiscal year.</span>\n",
      "                </span>\n",
      "                <span class=\"mcg-card__image\">\n",
      "                    <img alt=\"Food Scraps Recycling Truck. \" class=\"center-block img-responsive\" src=\"/countystat/Resources/Images/Service-pic-600x400.png\" style=\"width: 100%; height: 100%;\" />\n",
      "                </span>\n",
      "            </a>\n",
      "        </li>\n",
      "        <li class=\"col-md-4 col-sm-6\">\n",
      "            <a class=\"mcg-card\" href=\"/rps/dashboard.html\">\n",
      "                <span class=\"mcg-card__text\">\n",
      "                    <span class=\"mcg-card__header h3\">Reimagining Public Safety</span>\n",
      "                    <span class=\"mcg-card__description\">This dashboard provides the public with data on the Reimagining Public Safety (RPS) Task Force, the Maryland Police Accountability Act, and the Effective Law Enforcement for All MCPD Audits.</span>\n",
      "                </span>\n",
      "                <span class=\"mcg-card__image\">\n",
      "                    <img alt=\"\" class=\"center-block img-responsive\" src=\"/countystat/Resources/Images/rps-logo-600x400.png\" style=\"width: 100%; height: 100%;\" />\n",
      "                </span>\n",
      "            </a>\n",
      "        </li>\n",
      "        <li class=\"col-md-4 col-sm-6\">\n",
      "            <a class=\"mcg-card\" href=\"/covid19/data/\">\n",
      "                <span class=\"mcg-card__text\">\n",
      "                    <span class=\"mcg-card__header h3\">Covid-19 Surveillance</span>\n",
      "                    <span class=\"mcg-card__description\">This dashboard displays the relevant metrics used to track the spread of Covid-19 in Montgomery County, Maryland in alignment with the Centers for Disease control and Prevention (CDC)</span>\n",
      "                </span>\n",
      "                <span class=\"mcg-card__image\">\n",
      "                    <img alt=\"\" class=\"center-block img-responsive\" src=\"/countystat/Resources/Images/covid19-600x400.png\" style=\"width: 100%; height: 100%;\" />\n",
      "                </span>\n",
      "            </a>\n",
      "        </li>\n",
      "        <li class=\"col-md-4 col-sm-6\">\n",
      "            <a class=\"mcg-card\" href=\"/countystat/qls.html\">\n",
      "                <span class=\"mcg-card__text\">\n",
      "                    <span class=\"mcg-card__header h3\">Community Livibility Survey</span>\n",
      "                    <span class=\"mcg-card__description\">Montgomery County conducted a Livability Survey to better understand resident views on quality of life in the County. Explore the results and see trends that point to positive progress and priorities for improvement.</span>\n",
      "                </span>\n",
      "                <span class=\"mcg-card__image\">\n",
      "                    <img alt=\"\" class=\"center-block img-responsive\" src=\"/countystat/Resources/Images/new_images/comm_insights/qls-600x400.jpg\" style=\"width: 100%; height: 100%;\" />\n",
      "                </span>\n",
      "            </a>\n",
      "        </li>\n",
      "        <li class=\"col-md-4 col-sm-6\">\n",
      "            <a class=\"mcg-card\" href=\"https://public.tableau.com/profile/countystat#!/vizhome/AgingandVulnerability/Overview\">\n",
      "                <span class=\"mcg-card__text\">\n",
      "                    <span class=\"mcg-card__header h3\">Aging and Vulnerability Dashboards</span>\n",
      "                    <span class=\"mcg-card__description\">CountyStat created dashboards to depict the economic challenges facing our senior communities in order to locate priority areas for aid.</span>\n",
      "                </span>\n",
      "                <span class=\"mcg-card__image\">\n",
      "                    <img alt=\"\" class=\"center-block img-responsive\" src=\"/countystat/Resources/Images/new_images/proj_and_prod/aging-600x400.png\" style=\"width: 100%; height: 100%;\" />\n",
      "                </span>\n",
      "            </a>\n",
      "        </li>\n",
      "        <li class=\"col-md-4 col-sm-6\">\n",
      "            <a class=\"mcg-card\" href=\"https://mcgov-gis.maps.arcgis.com/apps/MapJournal/index.html?appid=60410e6f22844d2cbbe619505cb6e7bb\">\n",
      "                <span class=\"mcg-card__text\">\n",
      "                    <span class=\"mcg-card__header h3\">Vision Zero</span>\n",
      "                    <span class=\"mcg-card__description\">Montgomery County's Vision Zero initiative is working to reduce severe and fatal collisions on County roads by 35 percent for vehicle occupants, pedestrians, and bicyclists by 2019.</span>\n",
      "                </span>\n",
      "                <span class=\"mcg-card__image\">\n",
      "                    <img alt=\"\" class=\"center-block img-responsive\" src=\"/countystat/Resources/Images/new_images/proj_and_prod/vision-zero-600x400.png\" style=\"width: 100%; height: 100%;\" />\n",
      "                </span>\n",
      "            </a>\n",
      "        </li>\n",
      "        <li class=\"col-md-4 col-sm-6\">\n",
      "            <a class=\"mcg-card\" href=\"https://mcgov-gis.maps.arcgis.com/apps/MapJournal/index.html?appid=cfa19613a2e6487ca5374a6c152f6f17\">\n",
      "                <span class=\"mcg-card__text\">\n",
      "                    <span class=\"mcg-card__header h3\">Food Security</span>\n",
      "                    <span class=\"mcg-card__description\">CountyStat partnered with the Montgomery County Food Council and Montgomery County Department of Health and Human Services to develop an interactive tool that explores data pertaining to the County’s Food Insecure residents and the efforts that our County and Community are taking in fighting hunger.</span>\n",
      "                </span>\n",
      "                <span class=\"mcg-card__image\">\n",
      "                    <img alt=\"\" class=\"center-block img-responsive\" src=\"/countystat/Resources/Images/new_images/proj_and_prod/food-stat-600x400.png\" style=\"width: 100%; height: 100%;\" />\n",
      "                </span>\n",
      "            </a>\n",
      "        </li>\n",
      "        <li class=\"col-md-4 col-sm-6\">\n",
      "            <a class=\"mcg-card\" href=\"https://mcgov-gis.maps.arcgis.com/apps/webappviewer/index.html?id=e6a9de67cf3144039f6e6d54e2ece804\">\n",
      "                <span class=\"mcg-card__text\">\n",
      "                    <span class=\"mcg-card__header h3\">MC Insights</span>\n",
      "                    <span class=\"mcg-card__description\">This map-based data tool enables government staff and policymakers, residents, community partners, and advocates to explore the demographics and community assets located in Montgomery County to assist with planning and operations.</span>\n",
      "                </span>\n",
      "                <span class=\"mcg-card__image\">\n",
      "                    <img alt=\"\" class=\"center-block img-responsive\" src=\"/countystat/Resources/Images/new_images/comm_insights/mcinsights-600x400.jpg\" style=\"width: 100%; height: 100%;\" />\n",
      "                </span>\n",
      "            </a>\n",
      "        </li>\n",
      "        <li class=\"col-md-4 col-sm-6\">\n",
      "            <a class=\"mcg-card\" href=\"https://public.tableau.com/app/profile/countystat/viz/2023Self-SufficiencyStandardInteractiveUpdate/Title\">\n",
      "                <span class=\"mcg-card__text\">\n",
      "                    <span class=\"mcg-card__header h3\">Self-Sufficiency Standard</span>\n",
      "                    <span class=\"mcg-card__description\">CountyStat partnered with the County’s Community Action Partnership to build an interactive dashboard to determine how much income a family of a certain composition in a given place needs to adequately meet their basic needs – without public or private assistance.</span>\n",
      "                </span>\n",
      "                <span class=\"mcg-card__image\">\n",
      "                    <img alt=\"\" class=\"center-block img-responsive\" src=\"/countystat/Resources/Images/new_images/proj_and_prod/self-sufficiency-600x400.png\" style=\"width: 100%; height: 100%;\" />\n",
      "                </span>\n",
      "            </a>\n",
      "        </li>\n",
      "    </ul>\n",
      "    <!-- Insert CE Customer Service Commitment -->\n",
      "    <div data-mcgcms=\"include\" data-mcgcms-scr=\"/common/usercontrols/commitment.htm\"></div>\n",
      "</div>\n",
      "\n",
      "\t\n",
      "    \r\n",
      "\t\t\t</div>\r\n",
      "            <div id=\"mcgcontentfooter\">\r\n",
      "                \r\n",
      "                <aside class=\"container pb-3\" aria-label=\"CountyStat program explanation\">\n",
      "<hr/>\n",
      "<div class=\"cs-footer-tagline\">\n",
      "    <p>We are a program within the Montgomery County Office of Management and Budget, ensuring government transparency, a culture of accountability, and data-driven performance.</p>\n",
      "</div>\n",
      "</aside>\r\n",
      "            </div>\r\n",
      "        \r\n",
      "        <div id=\"mcgfooter\">\r\n",
      "            <footer aria-label=\"County\">\r\n",
      "<div id=\"footer-widgets\">\r\n",
      "<div class=\"container\">\r\n",
      "<div class=\"row margin-top-10\">\r\n",
      "<div class=\"col-md-3\">\r\n",
      "<h6 class=\"h4 footer-widget-title\">eSubscription</h6>\r\n",
      "<form action=\"https://public.govdelivery.com/accounts/MDMONTGOMERY/subscribers/qualify\"  id=\"GD-snippet-form\" method=\"post\">\r\n",
      "<div class=\"input-group\">\r\n",
      "<input type=\"hidden\" id=\"Hidden1\" name=\"subscription_type\" value=\"email\" />\r\n",
      "<label for=\"email\"><span class=\"sr-only\">Email</span></label>\r\n",
      "<input class=\"form-control\" placeholder=\"Email Address\" type=\"text\" id=\"email\" name=\"email\"  /> <span class=\"input-group-btn\"><button class=\"btn btn-ar btn-primary\" name=\"commit\" type=\"submit\" value=\"Submit\">Subscribe</button> </span></div>\r\n",
      "<p>Sign up for a newsletter or update your subscription preferences.</p></form>\r\n",
      "<!--\r\n",
      "><h4 class=\"footer-widget-title\"><a href=\"https://www.montgomerycountymd.gov/awards\">Awards</a></h4>\r\n",
      "<span><a href=\"https://www.montgomerycountymd.gov/awards\"><img src=\"/mcg/Resources/Images/awards/awards_footer_2018.png\" class=\"img-responsive\" alt=\"2018 tech savvy county award and digital counties survey award logo\"></a></span>\r\n",
      "-->\r\n",
      "</div>\r\n",
      "\r\n",
      "\r\n",
      "<div class=\"col-md-3\">\r\n",
      "<h6 class=\"h4 footer-widget-title\">Stay Informed</h6>\r\n",
      "\r\n",
      "<ul class=\"list-unstyled\">\r\n",
      "    <li><a href=\"https://montgomerycountymd.gov/awards\">Awards</a></li>\r\n",
      "    <li><a href=\"https://montgomerycountymd.gov/contact\">Contact Us</a></li>\r\n",
      "    <li><a href=\"/ccm\">County Cable Montgomery</a></li>\r\n",
      "    <!--<li><a href=\"https://montgomerycountymd.gov/calendar\">County Calendar</a></li>-->\r\n",
      "    <li><a href=\"httsp://montgomerycountymd.gov/socialmedia\">Social Media Directory</a></li>\r\n",
      "    <!--<li><a href=\"https://www.montgomerycountymd.gov/mcg/sm-hub.html\">Social Media Hub</a></li>-->\r\n",
      "    <li><a href=\"https://www.montgomerycountymd.gov/careers\">Employment Opportunities</a></li>\r\n",
      "    <li><a href=\"https://www2.montgomerycountymd.gov/mcgportalapps/SearchPhoneBook.aspx\">Employee Directory</a></li>\r\n",
      "</ul>\r\n",
      "</div>\r\n",
      "\r\n",
      "<div class=\"col-md-3\">\r\n",
      "<h6 class=\"h4 footer-widget-title\">Policies</h6>\r\n",
      "\r\n",
      "<ul class=\"list-unstyled\">\r\n",
      "\t<li><a href=\"https://montgomerycountymd.gov/privacy\">Privacy Policy </a></li>\r\n",
      "\t<li><a href=\"https://montgomerycountymd.gov/user_rights\">User Rights </a></li>\r\n",
      "\t<li><a href=\"https://montgomerycountymd.gov/accessibility\">Accessibility</a></li>\r\n",
      "\t<li><a href=\"https://montgomerycountymd.gov/translate\">Language Translations</a></li>\r\n",
      "\t<li><a href=\"https://montgomerycountymd.gov/socialmediapolicy\">Social Media</a></li>\r\n",
      "\t<li><a href=\"https://montgomerycountymd.gov/code\">County Code</a></li>\r\n",
      "</ul>\r\n",
      "</div>\r\n",
      "\r\n",
      "<div class=\"col-md-3\">\r\n",
      "\r\n",
      "<h6 class=\"h4 footer-widget-title\">Follow Us</h6>\r\n",
      "    <ul class=\"fa-ul\">\r\n",
      "        <li><i class=\"fa-li fas fa-exclamation-triangle\" aria-hidden=\"true\"></i><a href=\"https://alert.montgomerycountymd.gov/\" target=\"_blank\">Alert Montgomery</a></li>\r\n",
      "        <li><i class=\"fa-li fas fa-envelope\" aria-hidden=\"true\"></i><a href=\"https://www.montgomerycountymd.gov/esubscription\" target=\"_blank\">Subscribe to Newsletters</a></li>\r\n",
      "        <li><i class=\"fa-li fab fa-facebook-f\" aria-hidden=\"true\"></i><a href=\"https://www.facebook.com/montgomerycountyinfo\">Facebook</a></li>\r\n",
      "        <li><i class=\"fa-li fab fa-x-twitter\" aria-hidden=\"true\"></i><a href=\"https://twitter.com/MontgomeryCoMD\">X</a></li>\r\n",
      "        <li><i class=\"fa-li fab fa-youtube\" aria-hidden=\"true\"></i><a href=\"https://www.youtube.com/user/montgomerycountymd\">Youtube</a></li>\r\n",
      "        <li><i class=\"fa-li fab fa-flickr\" aria-hidden=\"true\"></i><a href=\"https://www.flickr.com/photos/montgomerycountymd\">Flickr</a></li>\r\n",
      "    </ul>\r\n",
      "</div>\r\n",
      "</div>\r\n",
      "\r\n",
      "\r\n",
      "<div class=\"text-center\" id=\"copyright\" style=\"font-size:1em; letter-spacing: 2px; padding-top: 8px;\">Copyright <script>document.write( new Date().getFullYear() );</script>. <a href=\"https://www.montgomerycountymd.gov/\">Montgomery County Government</a> - All Rights Reserved.</div>\r\n",
      "</div>\r\n",
      "</footer>\r\n",
      "\r\n",
      "<!--====================-->\r\n",
      "<!-- INSERT JAVASCRIPT  -->\r\n",
      "<!--====================-->\r\n",
      "\r\n",
      "<!-- for MCG slide out menu -->\r\n",
      "<script src=\"/common/Scripts/mcg-slide-out-menu.js\"></script>\r\n",
      "\r\n",
      "\r\n",
      "<!-- for Google Translate widget -->\r\n",
      "<script>\r\n",
      "    function googleTranslateElementInit() {\r\n",
      "        new google.translate.TranslateElement({\r\n",
      "            pageLanguage: 'en',\r\n",
      "            layout: google.translate.TranslateElement.InlineLayout.VERTICAL\r\n",
      "        },\r\n",
      "        'google_translate_element');\r\n",
      "    }\r\n",
      "    \r\n",
      "    // Give the language widget label tag an ID to use\r\n",
      "    setTimeout(function () { jQuery(\".goog-te-combo\").attr(\"id\", \"translateID\"); }, 1000);\r\n",
      "    // Update the language widget's aria-label\r\n",
      "    setTimeout(function () { jQuery(\".goog-te-combo\").attr(\"aria-label\", \"language\"); }, 1000);\r\n",
      "</script>\r\n",
      "<script src=\"//translate.google.com/translate_a/element.js?cb=googleTranslateElementInit\"></script>\r\n",
      "\r\n",
      "\r\n",
      "<script>\r\n",
      "  // hide Covid alert at top of page\r\n",
      "  $(document).ready(function () {\r\n",
      "      $(\".alert-royal\").remove();\r\n",
      "    });  \r\n",
      "</script>\r\n",
      "        </div>\r\n",
      "        <div id=\"back-top\">\r\n",
      "            <a href=\"#mcgheader\" title=\"Scroll to top\" accesskey=\"1\"><i class=\"fa fa-chevron-up\"><span class=\"sr-only\">Go Top</span></i></a>\t    \r\n",
      "        </div>\r\n",
      "    </div>    \r\n",
      "    <script src=\"/Common/Scripts/mcgcms.js\" type=\"text/javascript\"></script>\r\n",
      "    <script>\r\n",
      "        $(\"#back-top\").hide();\r\n",
      "        $(function () {\r\n",
      "            $(window).scroll(function () {\r\n",
      "                if ($(this).scrollTop() > 100) {\r\n",
      "                    $('#back-top').fadeIn();\r\n",
      "                } else {\r\n",
      "                    $('#back-top').fadeOut();\r\n",
      "                }\r\n",
      "            });\r\n",
      "            $('#back-top a').click(function () {\r\n",
      "                $('body,html').animate({\r\n",
      "                    scrollTop: 0\r\n",
      "                }, 500);\r\n",
      "                return false;\r\n",
      "            });\r\n",
      "        });\r\n",
      "     $(window).on('load', function () {\r\n",
      "\t\t\t $('ul.dropdown-menu [data-toggle=dropdown]').on('click', function(event) {\r\n",
      "\t\t\t\t\tevent.preventDefault(); \r\n",
      "\t\t\t\t\tevent.stopPropagation(); \r\n",
      "\t\t\t\t\t$(this).parent().siblings().removeClass('open');\r\n",
      "\t\t\t\t\t$(this).parent().toggleClass('open');\r\n",
      "\t\t});\r\n",
      " \t});\r\n",
      "    </script>    \r\n",
      "\r\n",
      "\t\r\n",
      "</body>\r\n",
      "</html>\r\n",
      ": 2\n"
     ]
    },
    {
     "name": "stderr",
     "output_type": "stream",
     "text": [
      " 61%|████████████████████████████████████████████▏                            | 6057/10000 [1:11:37<2:03:30,  1.88s/it]"
     ]
    },
    {
     "name": "stdout",
     "output_type": "stream",
     "text": [
      "Request to https://data.brla.gov/resource/sfeg-d9ip.json timed out after 5 seconds.\n"
     ]
    },
    {
     "name": "stderr",
     "output_type": "stream",
     "text": [
      " 61%|████████████████████████████████████████████▎                            | 6073/10000 [1:11:50<1:58:48,  1.82s/it]"
     ]
    },
    {
     "name": "stdout",
     "output_type": "stream",
     "text": [
      "Request to https://data.wa.gov/resource/fvrz-yz45.json timed out after 5 seconds.\n"
     ]
    },
    {
     "name": "stderr",
     "output_type": "stream",
     "text": [
      " 61%|█████████████████████████████████████████████▋                             | 6087/10000 [1:12:00<35:35,  1.83it/s]"
     ]
    },
    {
     "name": "stdout",
     "output_type": "stream",
     "text": [
      "Error fetching data from https://data.miamigov.com/resource/7ey5-m434.json: HTTPSConnectionPool(host='data.miamigov.com', port=443): Max retries exceeded with url: /resource/7ey5-m434.json (Caused by NewConnectionError('<urllib3.connection.HTTPSConnection object at 0x000002541646C700>: Failed to establish a new connection: [Errno 11001] getaddrinfo failed'))\n"
     ]
    },
    {
     "name": "stderr",
     "output_type": "stream",
     "text": [
      " 62%|█████████████████████████████████████████████▎                           | 6211/10000 [1:14:42<2:15:47,  2.15s/it]"
     ]
    },
    {
     "name": "stdout",
     "output_type": "stream",
     "text": [
      "Request to https://stat.stpete.org/resource/qdms-3kn3.json timed out after 5 seconds.\n"
     ]
    },
    {
     "name": "stderr",
     "output_type": "stream",
     "text": [
      " 64%|██████████████████████████████████████████████▉                          | 6434/10000 [1:17:18<2:06:22,  2.13s/it]"
     ]
    },
    {
     "name": "stdout",
     "output_type": "stream",
     "text": [
      "Request to https://data.cdc.gov/resource/vgc8-iyc4.json timed out after 5 seconds.\n"
     ]
    },
    {
     "name": "stderr",
     "output_type": "stream",
     "text": [
      " 65%|███████████████████████████████████████████████▌                         | 6508/10000 [1:18:15<1:53:09,  1.94s/it]"
     ]
    },
    {
     "name": "stdout",
     "output_type": "stream",
     "text": [
      "Request to https://data.cityofnewyork.us/resource/gsgx-6efw.json timed out after 5 seconds.\n"
     ]
    },
    {
     "name": "stderr",
     "output_type": "stream",
     "text": [
      " 67%|████████████████████████████████████████████████▉                        | 6705/10000 [1:23:21<1:45:26,  1.92s/it]"
     ]
    },
    {
     "name": "stdout",
     "output_type": "stream",
     "text": [
      "Request to https://www.datos.gov.co/resource/hds9-4524.json timed out after 5 seconds.\n"
     ]
    },
    {
     "name": "stderr",
     "output_type": "stream",
     "text": [
      " 68%|█████████████████████████████████████████████████▋                       | 6806/10000 [1:24:18<1:40:58,  1.90s/it]"
     ]
    },
    {
     "name": "stdout",
     "output_type": "stream",
     "text": [
      "Request to https://data.wa.gov/resource/bzff-4fmt.json timed out after 5 seconds.\n"
     ]
    },
    {
     "name": "stderr",
     "output_type": "stream",
     "text": [
      " 70%|██████████████████████████████████████████████████▊                      | 6955/10000 [1:25:46<1:35:20,  1.88s/it]"
     ]
    },
    {
     "name": "stdout",
     "output_type": "stream",
     "text": [
      "Request to https://data.ct.gov/resource/qem9-rt8k.json timed out after 5 seconds.\n"
     ]
    },
    {
     "name": "stderr",
     "output_type": "stream",
     "text": [
      " 71%|███████████████████████████████████████████████████▋                     | 7076/10000 [1:30:52<1:34:40,  1.94s/it]"
     ]
    },
    {
     "name": "stdout",
     "output_type": "stream",
     "text": [
      "Request to https://mydata.iadb.org/resource/itsw-5hnr.json timed out after 5 seconds.\n"
     ]
    },
    {
     "name": "stderr",
     "output_type": "stream",
     "text": [
      " 73%|█████████████████████████████████████████████████████▎                   | 7297/10000 [1:33:39<1:27:18,  1.94s/it]"
     ]
    },
    {
     "name": "stdout",
     "output_type": "stream",
     "text": [
      "Request to https://data.cityofnewyork.us/resource/4fwc-j3vn.json timed out after 5 seconds.\n"
     ]
    },
    {
     "name": "stderr",
     "output_type": "stream",
     "text": [
      " 73%|█████████████████████████████████████████████████████▍                   | 7316/10000 [1:34:00<1:29:43,  2.01s/it]"
     ]
    },
    {
     "name": "stdout",
     "output_type": "stream",
     "text": [
      "Request to https://data.cityofnewyork.us/resource/nbun-wekj.json timed out after 5 seconds.\n"
     ]
    },
    {
     "name": "stderr",
     "output_type": "stream",
     "text": [
      " 74%|█████████████████████████████████████████████████████▉                   | 7381/10000 [1:34:41<1:41:58,  2.34s/it]"
     ]
    },
    {
     "name": "stdout",
     "output_type": "stream",
     "text": [
      "Request to https://data.edmonton.ca/resource/ypje-j649.json timed out after 5 seconds.\n"
     ]
    },
    {
     "name": "stderr",
     "output_type": "stream",
     "text": [
      "\r",
      " 74%|█████████████████████████████████████████████████████▉                   | 7382/10000 [1:34:47<2:18:50,  3.18s/it]"
     ]
    },
    {
     "name": "stdout",
     "output_type": "stream",
     "text": [
      "Request to https://data.cambridgema.gov/resource/88at-7ucq.json timed out after 5 seconds.\n"
     ]
    },
    {
     "name": "stderr",
     "output_type": "stream",
     "text": [
      " 74%|█████████████████████████████████████████████████████▉                   | 7394/10000 [1:35:00<1:29:10,  2.05s/it]"
     ]
    },
    {
     "name": "stdout",
     "output_type": "stream",
     "text": [
      "Request to https://data.wa.gov/resource/irc2-87d5.json timed out after 5 seconds.\n"
     ]
    },
    {
     "name": "stderr",
     "output_type": "stream",
     "text": [
      " 75%|████████████████████████████████████████████████████████▌                  | 7537/10000 [1:36:35<46:07,  1.12s/it]"
     ]
    },
    {
     "name": "stdout",
     "output_type": "stream",
     "text": [
      "Error fetching data from https://performance.cityofrc.us/resource/3zhc-t25i.json: HTTPSConnectionPool(host='performance.cityofrc.us', port=443): Max retries exceeded with url: /resource/3zhc-t25i.json (Caused by NewConnectionError('<urllib3.connection.HTTPSConnection object at 0x0000025459C545B0>: Failed to establish a new connection: [Errno 11001] getaddrinfo failed'))\n"
     ]
    },
    {
     "name": "stderr",
     "output_type": "stream",
     "text": [
      " 76%|███████████████████████████████████████████████████████▌                 | 7605/10000 [1:37:39<1:23:00,  2.08s/it]"
     ]
    },
    {
     "name": "stdout",
     "output_type": "stream",
     "text": [
      "Request to https://data.ny.gov/resource/qym9-xzj6.json timed out after 5 seconds.\n"
     ]
    },
    {
     "name": "stderr",
     "output_type": "stream",
     "text": [
      " 77%|████████████████████████████████████████████████████████▍                | 7728/10000 [1:39:04<1:20:29,  2.13s/it]"
     ]
    },
    {
     "name": "stdout",
     "output_type": "stream",
     "text": [
      "Request to https://mydata.iadb.org/resource/sjty-9qzs.json timed out after 5 seconds.\n"
     ]
    },
    {
     "name": "stderr",
     "output_type": "stream",
     "text": [
      " 78%|████████████████████████████████████████████████████████▉                | 7796/10000 [1:40:16<2:21:59,  3.87s/it]"
     ]
    },
    {
     "name": "stdout",
     "output_type": "stream",
     "text": [
      "Request to https://www.data.act.gov.au/resource/jxpp-4iiz.json timed out after 5 seconds.\n"
     ]
    },
    {
     "name": "stderr",
     "output_type": "stream",
     "text": [
      " 79%|█████████████████████████████████████████████████████████▋               | 7894/10000 [1:41:32<1:08:37,  1.95s/it]"
     ]
    },
    {
     "name": "stdout",
     "output_type": "stream",
     "text": [
      "Request to https://data.wa.gov/resource/ydb3-3dnq.json timed out after 5 seconds.\n"
     ]
    },
    {
     "name": "stderr",
     "output_type": "stream",
     "text": [
      " 79%|███████████████████████████████████████████████████████████▍               | 7918/10000 [1:41:48<22:31,  1.54it/s]"
     ]
    },
    {
     "name": "stdout",
     "output_type": "stream",
     "text": [
      "Error fetching data from https://stat.montgomerycountymd.gov/resource/2tcf-unsy.json: [Errno Expecting value] \r\n",
      "<!DOCTYPE html>\r\n",
      "<html xmlns=\"http://www.w3.org/1999/xhtml\" lang=\"en\" xml:lang=\"en\">\r\n",
      "<head id=\"ctl00_Head1\"><title>\r\n",
      "\tCountyStat Home Page - Office of Management and Budget - Montgomery County, Maryland\r\n",
      "</title><meta http-equiv=\"Content-Type\" content=\"text/html; charset=utf-8\" /><meta name=\"viewport\" content=\"width=device-width, initial-scale=1.0\" /><meta http-equiv=\"X-UA-Compatible\" content=\"IE=Edge\" />    \r\n",
      "\t<script async src=\"https://www.googletagmanager.com/gtag/js?id=G-K9STEFSE4V\"></script>\r\n",
      "\t<link rel=\"stylesheet\" href=\"https://cdnjs.cloudflare.com/ajax/libs/font-awesome/6.4.2/css/all.min.css\" integrity=\"sha512-z3gLpd7yknf1YoNbCzqRKc4qyor8gaKU1qmn+CShxbuBusANI9QpRohGBreCFkKxLhei6S9CQXFEbbKuqLg0DA==\" crossorigin=\"anonymous\" referrerpolicy=\"no-referrer\" /><link rel=\"stylesheet\" href=\"//maxcdn.bootstrapcdn.com/font-awesome/4.4.0/css/font-awesome.min.css\" />\r\n",
      "    <script src=\"/_themeMCG/assets/js/jquery-3.5.1.min.js\"></script>\r\n",
      "    <script src=\"/_themeMCG/assets/js/bootstrap.min.js\"></script>\r\n",
      "\t<script src=\"https://ssl.google-analytics.com/ga.js\"></script>\r\n",
      "    <link rel=\"stylesheet\" href=\"/_themeMCG/assets/css/bootstrap.min.css\" /><link href=\"/_themeMCG/assets/css/width-full.css\" rel=\"stylesheet\" title=\"default\" /><link href=\"/_themeMCG/assets/css/animate.css\" rel=\"stylesheet\" title=\"default\" /><link href=\"/_themeMCG/assets/css/style-mcg.css\" rel=\"stylesheet\" title=\"default\" /><link href=\"/_themeMCG/assets/js/bxslider4.2.15/jquery.bxslider.min.css\" rel=\"stylesheet\" />\r\n",
      "    <script src=\"/_themeMCG/assets/js/bxslider4.2.15/jquery.bxslider.min.js\" type=\"text/javascript\"></script>    \r\n",
      "    <link href=\"/Common/Styles/mcgmain.css\" rel=\"stylesheet\" />        \r\n",
      "    <script src=\"/Common/Scripts/GoogleAnalytics.js?vr=202310091126\" type=\"text/javascript\"></script>\r\n",
      "\t<script src=\"/Common/Scripts/gSearch.min.js?vr=1.0\" type=\"text/javascript\"></script>\r\n",
      "    <link href=\"/Common/Styles/accessibility.css\" rel=\"stylesheet\" /><meta name=\"keywords\" /><meta name=\"description\" content=\"CountyStat is a program within the Montgomery County Office of Management and Budget, ensuring government transparency, a culture of accountability, and data-driven performance.\" /></head>\r\n",
      "<body>\r\n",
      "    <div id=\"mcgpage\">\r\n",
      "        <a href=\"#mcgmaincontent\" class=\"sr-only sr-only-focusable\">Skip to main content</a>\r\n",
      "\t\t<style>\r\n",
      "section .MCGCovidAlert {\r\n",
      "               font-family: \"Lato\", sans-serif;\r\n",
      "               color: inherit;\r\n",
      "               font-weight: 400;\r\n",
      "               line-height: 120%;\r\n",
      "               padding: 15px;\r\n",
      "               margin-bottom: 0;\r\n",
      "}\r\n",
      "section .MCGCovidAlert__msg1 {font-size: 2em; font-weight:800; margin-top:14px; margin-bottom:4px; }\r\n",
      "section .MCGCovidAlert__msg2 {font-size: 1.2em;}\r\n",
      "section .MCGCovidAlert .alert i {1.2em; margin-right: 5px;}\r\n",
      "</style>\r\n",
      "<!--\r\n",
      "<section class=\"alert-royal text-center MCGCovidAlertalert\" aria-label=\"County COVID-19 alert\">\r\n",
      "               <p class=\"MCGCovidAlert__msg1\"><a href=\"https://montgomerycountymd.gov/covid19\"><i class=\"fa fa-exclamation-circle\"></i> COVID-19 Updates</a></p>                       \r\n",
      "               <p class=\"MCGCovidAlert__msg2\"><a href=\"https://montgomerycountymd.gov/covid19/vaccine/\">Vaccine and Booster Information</a></p>\r\n",
      "</section>\r\n",
      "-->\r\n",
      "    \r\n",
      "    \r\n",
      "    <!--<div class=\"alert alert-royal\" style=\"text-align: center;margin-bottom:0px\">\r\n",
      "\t<h2><a href=\"https://montgomerycountymd.gov/covid19\" style=\"font-weight:600;\"><i class=\"fa fa-exclamation-circle fa-4x\"></i> COVID-19 Updates</a></h2>\t \t\r\n",
      "\t\t<h5><a href=\"https://www.montgomerycountymd.gov/covid19-reopening\">Reopening Guidelines</a></h5>\r\n",
      "\t</div>-->\r\n",
      "\r\n",
      "        <div id=\"mcgheader\" tabindex=\"-1\">\r\n",
      "            <link rel=\"stylesheet\" type=\"text/css\" href=\"/Common/Styles/mcg-colors.css\">\r\n",
      "<link rel=\"stylesheet\" type=\"text/css\" href=\"/Common/Styles/mcg-stylesheet.css\">\r\n",
      "<link rel=\"stylesheet\" type=\"text/css\" href=\"/Common/Styles/mcg-v2-template-transitional-styles.css\">\r\n",
      "<link rel=\"stylesheet\" type=\"text/css\" href=\"/Common/Styles/mcg-bootstrap-5.css\">\r\n",
      "<link rel=\"stylesheet\" type=\"text/css\" href=\"/Common/Styles/mcg-header-with-google-translate-widget.css\">\r\n",
      "\r\n",
      "<!-- UNCOMMENT TO USE THE MCG FEEDBACK BUTTON \r\n",
      "<link rel=\"stylesheet\" type=\"text/css\" href=\"/Common/Styles/mcg-feedback-styles.css\">\r\n",
      "-->\r\n",
      "\r\n",
      "<style>\r\n",
      "/*====================================*/\r\n",
      "/*=== STYLES SPECIFIC TO THIS SITE ===*/\r\n",
      "/*====================================*/\r\n",
      "\r\n",
      "/* to avoid top nav wrapping */\r\n",
      "/*\r\n",
      "@media (min-width: 992px) and (max-width: 1199px) { \r\n",
      "    #mcg-site-nav--links li {\r\n",
      "        margin: 0 -4px;\r\n",
      "    }\r\n",
      "    #mcg-site-nav--links a {\r\n",
      "        padding: 15px 6px;\r\n",
      "    }\r\n",
      "}\r\n",
      "*/\r\n",
      "\r\n",
      ".mcg-header-branding__tagline {font-size: 1rem;display:block;font-weight: normal;}\r\n",
      "@media (min-width: 992px) {\r\n",
      "    .mcg-header-branding__tagline {font-size: 1.2rem;}\r\n",
      "\r\n",
      "}\r\n",
      "\r\n",
      "hr.divider {    border-top: 1px solid var(--mcg-gray-6);}\r\n",
      "\r\n",
      ".cs-footer-tagline {\r\n",
      "    text-align:center;\r\n",
      "    margin: 0 auto; \r\n",
      "    width: 80%;\r\n",
      "}\r\n",
      "    \r\n",
      "</style>\r\n",
      "\r\n",
      "\r\n",
      "\r\n",
      "<!----- BEGIN HEADER ----->\r\n",
      "<header class=\"mb-3\" aria-label=\"County and department\">\r\n",
      "\r\n",
      "<section class=\"fluid-container mcg-bg-gray-1\">\r\n",
      "    <div class=\"container\">\r\n",
      "        <div class=\"mcg-official-site py-1\">\r\n",
      "            <span class=\"hidden-xs\">\r\n",
      "                An official website of <a href=\"https://www.montgomerycountymd.gov/\" target=\"_blank\">Montgomery County, Maryland</a>\r\n",
      "            </span>\r\n",
      "            <span class=\"visible-xs\">\r\n",
      "                An official website of<br/> <a href=\"https://www.montgomerycountymd.gov/\" target=\"_blank\">Montgomery County, Maryland</a>\r\n",
      "            </span>\r\n",
      "            <span class=\"mcg-official-site__mc311\"><a href=\"https://www.montgomerycountymd.gov/mc311\" target=\"_blank\">MC311</a></span>\r\n",
      "            </span>\r\n",
      "        </div>\r\n",
      "    </div>\r\n",
      "</section>\r\n",
      "\r\n",
      "<div class=\"container\">\r\n",
      "    <div class=\"mcg-header-elements mt-1 mb-3\">\r\n",
      "        <!-- mcg-header-branding -->\r\n",
      "        <div class=\"mcg-header-branding\">\r\n",
      "            <div class=\"mcg-header-branding__logo\" id=\"mcgSiteLogo\">            \r\n",
      "               <img src=\"/countystat/Resources/Images/header/countystat-logo.png\" alt=\"CountyStat logo\">\r\n",
      "            </div>\r\n",
      "            <div class=\"mcg-header-branding__text\" id=\"mcgSiteName\">\r\n",
      "                <a href=\"/countystat/main.html\">Montgomery County CountyStat</a>\r\n",
      "                <span class=\"mcg-header-branding__tagline\">Office of Management and Budget</span>\r\n",
      "            </div>\r\n",
      "\r\n",
      "        </div>\r\n",
      "    \r\n",
      "        <!-- mcg-header-utilities -->\r\n",
      "        <div class=\"mcg-header-utilities\">\r\n",
      "            <div class=\"hidden-md hidden-lg\">\r\n",
      "                <button type=\"button\" id=\"hamburger-menu\" class=\"mcg-mobile-header-icon\" aria-label=\"open navigation and translation\"  aria-controls=\"mcg-site-nav--links\" aria-expanded=\"false\">\r\n",
      "                    <i class=\"fa fa-bars fa-fw\" aria-hidden=\"true\"></i><i aria-hidden=\"true\" class=\"fa-solid fa-globe\"></i>\r\n",
      "                </button>\r\n",
      "            </div>\r\n",
      "            <!-- Keep this div empty for the Google custom search -->\r\n",
      "            <div id=\"searchCustom\"></div>\r\n",
      "        </div>\r\n",
      "    </div><!-- end class=\"mcg-header-elements -->\r\n",
      "</div>\r\n",
      "\r\n",
      "<!----- BEGIN TOP NAVIGATION ----->\r\n",
      "<nav aria-label=\"Site\" role=\"navigation\" id=\"mcg-site-nav\">\r\n",
      "    <div class=\"container\">\r\n",
      "        <div id=\"slide-nav\" class=\"slide-content slide-content--right\">\r\n",
      "            <button type=\"button\" id=\"close\" class=\"close-btn\" aria-label=\"close navigation\">&times;</button>\r\n",
      "            <div class=\"mcg-header-translation-widget\">\r\n",
      "                <label class=\"me-1\" for=\"translateID\">Translate</label>\r\n",
      "                <div id=\"google_translate_element\"></div>\r\n",
      "            </div>\r\n",
      "        <ul id=\"mcg-site-nav--links\">\r\n",
      "                <li class=\"hidden-xs hidden-sm\"><a href=\"/countystat/main.html\" aria-label=\"CountyStat home\"><i class=\"fa fa-home\" aria-hidden=\"true\"></i></a></li>\r\n",
      "                <li class=\"hidden-md hidden-lg\"><a href=\"/countystat/main.html\">CountyStat Home</a></li>\r\n",
      "                <li><a href=\"/countystat/dept_performance.html\">Department Performance</a></li>\r\n",
      "                <li><a href=\"/countystat/community_insights.html\">Community Insights</a></li>\r\n",
      "                <li><a href=\"/countystat/proj_and_prod.html\">Projects and Products</a></li>\r\n",
      "                <li><a href=\"/countystat/about.html\">About Us</a></li>\r\n",
      "\r\n",
      "            </ul>\r\n",
      "        </div>\r\n",
      "    </div>\r\n",
      "</nav>\r\n",
      "<!----- END TOP NAVIGATION ----->\r\n",
      "\r\n",
      "</header>\r\n",
      "<!----- END HEADER ----->\r\n",
      "\r\n",
      "<script>\r\n",
      "     $(document).ready(function () {\r\n",
      "         $(\"#searchCustom\").googleSearchBox({ resultURL: \"https://montgomerycountymd.gov/mcgresponsive/newsearch.html\" });\r\n",
      "         //$('#txtSearchbox').val('Enter keyword(s) or phrase')\r\n",
      "         //Clear the default value when input box is in focus.\r\n",
      "         $('input:text').focus(function () {\r\n",
      "             $(this).val('');\r\n",
      "         });\r\n",
      "\r\n",
      "         // replace Search text on button with magnifier icon\r\n",
      "         $(\"#btnSearchBox\").html('<i class=\"fa fa-search\" aria-hidden=\"true\"></i><span class=\"sr-only\">Search</span>');\r\n",
      "     });\r\n",
      "</script>\r\n",
      "        </div>\r\n",
      "        <div id=\"mcgmenu\">\r\n",
      "               <!-- REMOVE MenuBar -->\r\n",
      "        </div>        \r\n",
      "            <div id=\"mcgcontentheader\">\r\n",
      "                \r\n",
      "                <!--<div class=\"container\"></div>-->\r\n",
      "            </div>\r\n",
      "\t\t\t<div id=\"mcgmaincontent\" role=\"main\" tabindex=\"-1\">\r\n",
      "\t\t\t\t\r\n",
      "\t\t\t\t    \t\t\n",
      "\t\t\n",
      "<div class=\"container\">\n",
      "    <p style=\"font-size:larger;\">\n",
      "        <strong>CountyStat is the performance management and data analytics team for Montgomery County (MD) Government</strong>. Established in 2007 under the Office of County Executive and shifted to the Office of Management and Budget in 2020, CountyStat uses an outcome-focused performance framework to strategically monitor, assess, and improve the effectiveness and efficiency of County services. Employing analytics skills and tools, CountyStat leverages administrative and public data to help County departments solve problems and develop targeted action plans and strategies to deliver results for our residents.\n",
      "    </p>\n",
      "    <p style=\"font-size:larger;\">Collectively, our work is designed to ensure, on behalf of County leadership, the development and growth of a culture of “managing for results” in Montgomery County.</p>\n",
      "    <ul class=\"row mcg-card-group mt-4\">\n",
      "        <li class=\"col-md-4 col-sm-6\">\n",
      "            <a class=\"mcg-card\" href=\"/countystat/dept_performance.html\">\n",
      "                <span class=\"mcg-card__text\">\n",
      "                    <span class=\"mcg-card__header h3\">Department Performance      </span>\n",
      "                    <span class=\"mcg-card__description\">Access County Government performance dashboards and plans</span>\n",
      "                </span>\n",
      "                <span class=\"mcg-card__image\">\n",
      "                    <img alt=\"Keyboard with Performance Management\" class=\"center-block img-responsive\" src=\"/countystat/Resources/Images/perform-banner-600x400.jpg\" style=\"width: 100%; height: 230px;\" />\n",
      "                </span>\n",
      "            </a>\n",
      "        </li>\n",
      "        <li class=\"col-md-4 col-sm-6\">\n",
      "            <a class=\"mcg-card\" href=\"https://www.montgomerycountymd.gov/countystat/program-inventory/index.html\">\n",
      "                <span class=\"mcg-card__text\">\n",
      "                    <span class=\"mcg-card__header h3\">New: ProgramPulse</span>\n",
      "                    <span class=\"mcg-card__description\">Comprehensive Program Inventory Initiative: Enhancing performance and accountability    </span>\n",
      "                </span>\n",
      "                <span class=\"mcg-card__image\">\n",
      "                    <img alt=\"Aerial photo of a neighborhood community. \" class=\"center-block img-responsive\" src=\"/countystat/Resources/Images/af%20housing.PNG\" style=\"width: 100%; height: 230px;\" />\n",
      "                </span>\n",
      "            </a>\n",
      "        </li>\n",
      "        <li class=\"col-md-4 col-sm-6\">\n",
      "            <a class=\"mcg-card\" href=\"https://www.montgomerycountymd.gov/countystat/tell-our-story-initiative.html\">\n",
      "                <span class=\"mcg-card__text\">\n",
      "                    <span class=\"mcg-card__header h3\">Telling Our Organizational Success Story</span>\n",
      "                    <span class=\"mcg-card__description\">Discover how employees have improved government services.</span>\n",
      "                </span>\n",
      "                <span class=\"mcg-card__image\">\n",
      "                    <img alt=\"Tell Our Story-Flash Bus Services.\" class=\"center-block img-responsive\" src=\"/countystat/Resources/Images/Capture3.PNG\" style=\"width: 100%; height: 230px;\" />\n",
      "                </span>\n",
      "            </a>\n",
      "        </li>\n",
      "    </ul>\n",
      "    <h2 class=\"right-line\">Featured Projects</h2>\n",
      "    <ul class=\"row mcg-card-group mt-4\">\n",
      "        <li class=\"col-md-4 col-sm-6\">\n",
      "            <a class=\"mcg-card\" href=\"/countystat/services_performance.html\">\n",
      "                <span class=\"mcg-card__text\">\n",
      "                    <span class=\"mcg-card__header h3\">Service Performance</span>\n",
      "                    <span class=\"mcg-card__description\">CountyStat reviews the entire catalog of services provided by the CountyGovernment, and considers revisions to performance standards to take effect at the start of each new fiscal year.</span>\n",
      "                </span>\n",
      "                <span class=\"mcg-card__image\">\n",
      "                    <img alt=\"Food Scraps Recycling Truck. \" class=\"center-block img-responsive\" src=\"/countystat/Resources/Images/Service-pic-600x400.png\" style=\"width: 100%; height: 100%;\" />\n",
      "                </span>\n",
      "            </a>\n",
      "        </li>\n",
      "        <li class=\"col-md-4 col-sm-6\">\n",
      "            <a class=\"mcg-card\" href=\"/rps/dashboard.html\">\n",
      "                <span class=\"mcg-card__text\">\n",
      "                    <span class=\"mcg-card__header h3\">Reimagining Public Safety</span>\n",
      "                    <span class=\"mcg-card__description\">This dashboard provides the public with data on the Reimagining Public Safety (RPS) Task Force, the Maryland Police Accountability Act, and the Effective Law Enforcement for All MCPD Audits.</span>\n",
      "                </span>\n",
      "                <span class=\"mcg-card__image\">\n",
      "                    <img alt=\"\" class=\"center-block img-responsive\" src=\"/countystat/Resources/Images/rps-logo-600x400.png\" style=\"width: 100%; height: 100%;\" />\n",
      "                </span>\n",
      "            </a>\n",
      "        </li>\n",
      "        <li class=\"col-md-4 col-sm-6\">\n",
      "            <a class=\"mcg-card\" href=\"/covid19/data/\">\n",
      "                <span class=\"mcg-card__text\">\n",
      "                    <span class=\"mcg-card__header h3\">Covid-19 Surveillance</span>\n",
      "                    <span class=\"mcg-card__description\">This dashboard displays the relevant metrics used to track the spread of Covid-19 in Montgomery County, Maryland in alignment with the Centers for Disease control and Prevention (CDC)</span>\n",
      "                </span>\n",
      "                <span class=\"mcg-card__image\">\n",
      "                    <img alt=\"\" class=\"center-block img-responsive\" src=\"/countystat/Resources/Images/covid19-600x400.png\" style=\"width: 100%; height: 100%;\" />\n",
      "                </span>\n",
      "            </a>\n",
      "        </li>\n",
      "        <li class=\"col-md-4 col-sm-6\">\n",
      "            <a class=\"mcg-card\" href=\"/countystat/qls.html\">\n",
      "                <span class=\"mcg-card__text\">\n",
      "                    <span class=\"mcg-card__header h3\">Community Livibility Survey</span>\n",
      "                    <span class=\"mcg-card__description\">Montgomery County conducted a Livability Survey to better understand resident views on quality of life in the County. Explore the results and see trends that point to positive progress and priorities for improvement.</span>\n",
      "                </span>\n",
      "                <span class=\"mcg-card__image\">\n",
      "                    <img alt=\"\" class=\"center-block img-responsive\" src=\"/countystat/Resources/Images/new_images/comm_insights/qls-600x400.jpg\" style=\"width: 100%; height: 100%;\" />\n",
      "                </span>\n",
      "            </a>\n",
      "        </li>\n",
      "        <li class=\"col-md-4 col-sm-6\">\n",
      "            <a class=\"mcg-card\" href=\"https://public.tableau.com/profile/countystat#!/vizhome/AgingandVulnerability/Overview\">\n",
      "                <span class=\"mcg-card__text\">\n",
      "                    <span class=\"mcg-card__header h3\">Aging and Vulnerability Dashboards</span>\n",
      "                    <span class=\"mcg-card__description\">CountyStat created dashboards to depict the economic challenges facing our senior communities in order to locate priority areas for aid.</span>\n",
      "                </span>\n",
      "                <span class=\"mcg-card__image\">\n",
      "                    <img alt=\"\" class=\"center-block img-responsive\" src=\"/countystat/Resources/Images/new_images/proj_and_prod/aging-600x400.png\" style=\"width: 100%; height: 100%;\" />\n",
      "                </span>\n",
      "            </a>\n",
      "        </li>\n",
      "        <li class=\"col-md-4 col-sm-6\">\n",
      "            <a class=\"mcg-card\" href=\"https://mcgov-gis.maps.arcgis.com/apps/MapJournal/index.html?appid=60410e6f22844d2cbbe619505cb6e7bb\">\n",
      "                <span class=\"mcg-card__text\">\n",
      "                    <span class=\"mcg-card__header h3\">Vision Zero</span>\n",
      "                    <span class=\"mcg-card__description\">Montgomery County's Vision Zero initiative is working to reduce severe and fatal collisions on County roads by 35 percent for vehicle occupants, pedestrians, and bicyclists by 2019.</span>\n",
      "                </span>\n",
      "                <span class=\"mcg-card__image\">\n",
      "                    <img alt=\"\" class=\"center-block img-responsive\" src=\"/countystat/Resources/Images/new_images/proj_and_prod/vision-zero-600x400.png\" style=\"width: 100%; height: 100%;\" />\n",
      "                </span>\n",
      "            </a>\n",
      "        </li>\n",
      "        <li class=\"col-md-4 col-sm-6\">\n",
      "            <a class=\"mcg-card\" href=\"https://mcgov-gis.maps.arcgis.com/apps/MapJournal/index.html?appid=cfa19613a2e6487ca5374a6c152f6f17\">\n",
      "                <span class=\"mcg-card__text\">\n",
      "                    <span class=\"mcg-card__header h3\">Food Security</span>\n",
      "                    <span class=\"mcg-card__description\">CountyStat partnered with the Montgomery County Food Council and Montgomery County Department of Health and Human Services to develop an interactive tool that explores data pertaining to the County’s Food Insecure residents and the efforts that our County and Community are taking in fighting hunger.</span>\n",
      "                </span>\n",
      "                <span class=\"mcg-card__image\">\n",
      "                    <img alt=\"\" class=\"center-block img-responsive\" src=\"/countystat/Resources/Images/new_images/proj_and_prod/food-stat-600x400.png\" style=\"width: 100%; height: 100%;\" />\n",
      "                </span>\n",
      "            </a>\n",
      "        </li>\n",
      "        <li class=\"col-md-4 col-sm-6\">\n",
      "            <a class=\"mcg-card\" href=\"https://mcgov-gis.maps.arcgis.com/apps/webappviewer/index.html?id=e6a9de67cf3144039f6e6d54e2ece804\">\n",
      "                <span class=\"mcg-card__text\">\n",
      "                    <span class=\"mcg-card__header h3\">MC Insights</span>\n",
      "                    <span class=\"mcg-card__description\">This map-based data tool enables government staff and policymakers, residents, community partners, and advocates to explore the demographics and community assets located in Montgomery County to assist with planning and operations.</span>\n",
      "                </span>\n",
      "                <span class=\"mcg-card__image\">\n",
      "                    <img alt=\"\" class=\"center-block img-responsive\" src=\"/countystat/Resources/Images/new_images/comm_insights/mcinsights-600x400.jpg\" style=\"width: 100%; height: 100%;\" />\n",
      "                </span>\n",
      "            </a>\n",
      "        </li>\n",
      "        <li class=\"col-md-4 col-sm-6\">\n",
      "            <a class=\"mcg-card\" href=\"https://public.tableau.com/app/profile/countystat/viz/2023Self-SufficiencyStandardInteractiveUpdate/Title\">\n",
      "                <span class=\"mcg-card__text\">\n",
      "                    <span class=\"mcg-card__header h3\">Self-Sufficiency Standard</span>\n",
      "                    <span class=\"mcg-card__description\">CountyStat partnered with the County’s Community Action Partnership to build an interactive dashboard to determine how much income a family of a certain composition in a given place needs to adequately meet their basic needs – without public or private assistance.</span>\n",
      "                </span>\n",
      "                <span class=\"mcg-card__image\">\n",
      "                    <img alt=\"\" class=\"center-block img-responsive\" src=\"/countystat/Resources/Images/new_images/proj_and_prod/self-sufficiency-600x400.png\" style=\"width: 100%; height: 100%;\" />\n",
      "                </span>\n",
      "            </a>\n",
      "        </li>\n",
      "    </ul>\n",
      "    <!-- Insert CE Customer Service Commitment -->\n",
      "    <div data-mcgcms=\"include\" data-mcgcms-scr=\"/common/usercontrols/commitment.htm\"></div>\n",
      "</div>\n",
      "\n",
      "\t\n",
      "    \r\n",
      "\t\t\t</div>\r\n",
      "            <div id=\"mcgcontentfooter\">\r\n",
      "                \r\n",
      "                <aside class=\"container pb-3\" aria-label=\"CountyStat program explanation\">\n",
      "<hr/>\n",
      "<div class=\"cs-footer-tagline\">\n",
      "    <p>We are a program within the Montgomery County Office of Management and Budget, ensuring government transparency, a culture of accountability, and data-driven performance.</p>\n",
      "</div>\n",
      "</aside>\r\n",
      "            </div>\r\n",
      "        \r\n",
      "        <div id=\"mcgfooter\">\r\n",
      "            <footer aria-label=\"County\">\r\n",
      "<div id=\"footer-widgets\">\r\n",
      "<div class=\"container\">\r\n",
      "<div class=\"row margin-top-10\">\r\n",
      "<div class=\"col-md-3\">\r\n",
      "<h6 class=\"h4 footer-widget-title\">eSubscription</h6>\r\n",
      "<form action=\"https://public.govdelivery.com/accounts/MDMONTGOMERY/subscribers/qualify\"  id=\"GD-snippet-form\" method=\"post\">\r\n",
      "<div class=\"input-group\">\r\n",
      "<input type=\"hidden\" id=\"Hidden1\" name=\"subscription_type\" value=\"email\" />\r\n",
      "<label for=\"email\"><span class=\"sr-only\">Email</span></label>\r\n",
      "<input class=\"form-control\" placeholder=\"Email Address\" type=\"text\" id=\"email\" name=\"email\"  /> <span class=\"input-group-btn\"><button class=\"btn btn-ar btn-primary\" name=\"commit\" type=\"submit\" value=\"Submit\">Subscribe</button> </span></div>\r\n",
      "<p>Sign up for a newsletter or update your subscription preferences.</p></form>\r\n",
      "<!--\r\n",
      "><h4 class=\"footer-widget-title\"><a href=\"https://www.montgomerycountymd.gov/awards\">Awards</a></h4>\r\n",
      "<span><a href=\"https://www.montgomerycountymd.gov/awards\"><img src=\"/mcg/Resources/Images/awards/awards_footer_2018.png\" class=\"img-responsive\" alt=\"2018 tech savvy county award and digital counties survey award logo\"></a></span>\r\n",
      "-->\r\n",
      "</div>\r\n",
      "\r\n",
      "\r\n",
      "<div class=\"col-md-3\">\r\n",
      "<h6 class=\"h4 footer-widget-title\">Stay Informed</h6>\r\n",
      "\r\n",
      "<ul class=\"list-unstyled\">\r\n",
      "    <li><a href=\"https://montgomerycountymd.gov/awards\">Awards</a></li>\r\n",
      "    <li><a href=\"https://montgomerycountymd.gov/contact\">Contact Us</a></li>\r\n",
      "    <li><a href=\"/ccm\">County Cable Montgomery</a></li>\r\n",
      "    <!--<li><a href=\"https://montgomerycountymd.gov/calendar\">County Calendar</a></li>-->\r\n",
      "    <li><a href=\"httsp://montgomerycountymd.gov/socialmedia\">Social Media Directory</a></li>\r\n",
      "    <!--<li><a href=\"https://www.montgomerycountymd.gov/mcg/sm-hub.html\">Social Media Hub</a></li>-->\r\n",
      "    <li><a href=\"https://www.montgomerycountymd.gov/careers\">Employment Opportunities</a></li>\r\n",
      "    <li><a href=\"https://www2.montgomerycountymd.gov/mcgportalapps/SearchPhoneBook.aspx\">Employee Directory</a></li>\r\n",
      "</ul>\r\n",
      "</div>\r\n",
      "\r\n",
      "<div class=\"col-md-3\">\r\n",
      "<h6 class=\"h4 footer-widget-title\">Policies</h6>\r\n",
      "\r\n",
      "<ul class=\"list-unstyled\">\r\n",
      "\t<li><a href=\"https://montgomerycountymd.gov/privacy\">Privacy Policy </a></li>\r\n",
      "\t<li><a href=\"https://montgomerycountymd.gov/user_rights\">User Rights </a></li>\r\n",
      "\t<li><a href=\"https://montgomerycountymd.gov/accessibility\">Accessibility</a></li>\r\n",
      "\t<li><a href=\"https://montgomerycountymd.gov/translate\">Language Translations</a></li>\r\n",
      "\t<li><a href=\"https://montgomerycountymd.gov/socialmediapolicy\">Social Media</a></li>\r\n",
      "\t<li><a href=\"https://montgomerycountymd.gov/code\">County Code</a></li>\r\n",
      "</ul>\r\n",
      "</div>\r\n",
      "\r\n",
      "<div class=\"col-md-3\">\r\n",
      "\r\n",
      "<h6 class=\"h4 footer-widget-title\">Follow Us</h6>\r\n",
      "    <ul class=\"fa-ul\">\r\n",
      "        <li><i class=\"fa-li fas fa-exclamation-triangle\" aria-hidden=\"true\"></i><a href=\"https://alert.montgomerycountymd.gov/\" target=\"_blank\">Alert Montgomery</a></li>\r\n",
      "        <li><i class=\"fa-li fas fa-envelope\" aria-hidden=\"true\"></i><a href=\"https://www.montgomerycountymd.gov/esubscription\" target=\"_blank\">Subscribe to Newsletters</a></li>\r\n",
      "        <li><i class=\"fa-li fab fa-facebook-f\" aria-hidden=\"true\"></i><a href=\"https://www.facebook.com/montgomerycountyinfo\">Facebook</a></li>\r\n",
      "        <li><i class=\"fa-li fab fa-x-twitter\" aria-hidden=\"true\"></i><a href=\"https://twitter.com/MontgomeryCoMD\">X</a></li>\r\n",
      "        <li><i class=\"fa-li fab fa-youtube\" aria-hidden=\"true\"></i><a href=\"https://www.youtube.com/user/montgomerycountymd\">Youtube</a></li>\r\n",
      "        <li><i class=\"fa-li fab fa-flickr\" aria-hidden=\"true\"></i><a href=\"https://www.flickr.com/photos/montgomerycountymd\">Flickr</a></li>\r\n",
      "    </ul>\r\n",
      "</div>\r\n",
      "</div>\r\n",
      "\r\n",
      "\r\n",
      "<div class=\"text-center\" id=\"copyright\" style=\"font-size:1em; letter-spacing: 2px; padding-top: 8px;\">Copyright <script>document.write( new Date().getFullYear() );</script>. <a href=\"https://www.montgomerycountymd.gov/\">Montgomery County Government</a> - All Rights Reserved.</div>\r\n",
      "</div>\r\n",
      "</footer>\r\n",
      "\r\n",
      "<!--====================-->\r\n",
      "<!-- INSERT JAVASCRIPT  -->\r\n",
      "<!--====================-->\r\n",
      "\r\n",
      "<!-- for MCG slide out menu -->\r\n",
      "<script src=\"/common/Scripts/mcg-slide-out-menu.js\"></script>\r\n",
      "\r\n",
      "\r\n",
      "<!-- for Google Translate widget -->\r\n",
      "<script>\r\n",
      "    function googleTranslateElementInit() {\r\n",
      "        new google.translate.TranslateElement({\r\n",
      "            pageLanguage: 'en',\r\n",
      "            layout: google.translate.TranslateElement.InlineLayout.VERTICAL\r\n",
      "        },\r\n",
      "        'google_translate_element');\r\n",
      "    }\r\n",
      "    \r\n",
      "    // Give the language widget label tag an ID to use\r\n",
      "    setTimeout(function () { jQuery(\".goog-te-combo\").attr(\"id\", \"translateID\"); }, 1000);\r\n",
      "    // Update the language widget's aria-label\r\n",
      "    setTimeout(function () { jQuery(\".goog-te-combo\").attr(\"aria-label\", \"language\"); }, 1000);\r\n",
      "</script>\r\n",
      "<script src=\"//translate.google.com/translate_a/element.js?cb=googleTranslateElementInit\"></script>\r\n",
      "\r\n",
      "\r\n",
      "<script>\r\n",
      "  // hide Covid alert at top of page\r\n",
      "  $(document).ready(function () {\r\n",
      "      $(\".alert-royal\").remove();\r\n",
      "    });  \r\n",
      "</script>\r\n",
      "        </div>\r\n",
      "        <div id=\"back-top\">\r\n",
      "            <a href=\"#mcgheader\" title=\"Scroll to top\" accesskey=\"1\"><i class=\"fa fa-chevron-up\"><span class=\"sr-only\">Go Top</span></i></a>\t    \r\n",
      "        </div>\r\n",
      "    </div>    \r\n",
      "    <script src=\"/Common/Scripts/mcgcms.js\" type=\"text/javascript\"></script>\r\n",
      "    <script>\r\n",
      "        $(\"#back-top\").hide();\r\n",
      "        $(function () {\r\n",
      "            $(window).scroll(function () {\r\n",
      "                if ($(this).scrollTop() > 100) {\r\n",
      "                    $('#back-top').fadeIn();\r\n",
      "                } else {\r\n",
      "                    $('#back-top').fadeOut();\r\n",
      "                }\r\n",
      "            });\r\n",
      "            $('#back-top a').click(function () {\r\n",
      "                $('body,html').animate({\r\n",
      "                    scrollTop: 0\r\n",
      "                }, 500);\r\n",
      "                return false;\r\n",
      "            });\r\n",
      "        });\r\n",
      "     $(window).on('load', function () {\r\n",
      "\t\t\t $('ul.dropdown-menu [data-toggle=dropdown]').on('click', function(event) {\r\n",
      "\t\t\t\t\tevent.preventDefault(); \r\n",
      "\t\t\t\t\tevent.stopPropagation(); \r\n",
      "\t\t\t\t\t$(this).parent().siblings().removeClass('open');\r\n",
      "\t\t\t\t\t$(this).parent().toggleClass('open');\r\n",
      "\t\t});\r\n",
      " \t});\r\n",
      "    </script>    \r\n",
      "\r\n",
      "\t\r\n",
      "</body>\r\n",
      "</html>\r\n",
      ": 2\n"
     ]
    },
    {
     "name": "stderr",
     "output_type": "stream",
     "text": [
      " 82%|███████████████████████████████████████████████████████████▊             | 8197/10000 [1:50:00<1:00:15,  2.01s/it]"
     ]
    },
    {
     "name": "stdout",
     "output_type": "stream",
     "text": [
      "Request to https://www.data.act.gov.au/resource/92fy-xvmy.json timed out after 5 seconds.\n"
     ]
    },
    {
     "name": "stderr",
     "output_type": "stream",
     "text": [
      " 83%|██████████████████████████████████████████████████████████████▍            | 8322/10000 [1:51:26<10:51,  2.58it/s]"
     ]
    },
    {
     "name": "stdout",
     "output_type": "stream",
     "text": [
      "Error fetching data from https://stat.montgomerycountymd.gov/resource/fdyk-etfp.json: [Errno Expecting value] \r\n",
      "<!DOCTYPE html>\r\n",
      "<html xmlns=\"http://www.w3.org/1999/xhtml\" lang=\"en\" xml:lang=\"en\">\r\n",
      "<head id=\"ctl00_Head1\"><title>\r\n",
      "\tCountyStat Home Page - Office of Management and Budget - Montgomery County, Maryland\r\n",
      "</title><meta http-equiv=\"Content-Type\" content=\"text/html; charset=utf-8\" /><meta name=\"viewport\" content=\"width=device-width, initial-scale=1.0\" /><meta http-equiv=\"X-UA-Compatible\" content=\"IE=Edge\" />    \r\n",
      "\t<script async src=\"https://www.googletagmanager.com/gtag/js?id=G-K9STEFSE4V\"></script>\r\n",
      "\t<link rel=\"stylesheet\" href=\"https://cdnjs.cloudflare.com/ajax/libs/font-awesome/6.4.2/css/all.min.css\" integrity=\"sha512-z3gLpd7yknf1YoNbCzqRKc4qyor8gaKU1qmn+CShxbuBusANI9QpRohGBreCFkKxLhei6S9CQXFEbbKuqLg0DA==\" crossorigin=\"anonymous\" referrerpolicy=\"no-referrer\" /><link rel=\"stylesheet\" href=\"//maxcdn.bootstrapcdn.com/font-awesome/4.4.0/css/font-awesome.min.css\" />\r\n",
      "    <script src=\"/_themeMCG/assets/js/jquery-3.5.1.min.js\"></script>\r\n",
      "    <script src=\"/_themeMCG/assets/js/bootstrap.min.js\"></script>\r\n",
      "\t<script src=\"https://ssl.google-analytics.com/ga.js\"></script>\r\n",
      "    <link rel=\"stylesheet\" href=\"/_themeMCG/assets/css/bootstrap.min.css\" /><link href=\"/_themeMCG/assets/css/width-full.css\" rel=\"stylesheet\" title=\"default\" /><link href=\"/_themeMCG/assets/css/animate.css\" rel=\"stylesheet\" title=\"default\" /><link href=\"/_themeMCG/assets/css/style-mcg.css\" rel=\"stylesheet\" title=\"default\" /><link href=\"/_themeMCG/assets/js/bxslider4.2.15/jquery.bxslider.min.css\" rel=\"stylesheet\" />\r\n",
      "    <script src=\"/_themeMCG/assets/js/bxslider4.2.15/jquery.bxslider.min.js\" type=\"text/javascript\"></script>    \r\n",
      "    <link href=\"/Common/Styles/mcgmain.css\" rel=\"stylesheet\" />        \r\n",
      "    <script src=\"/Common/Scripts/GoogleAnalytics.js?vr=202310091126\" type=\"text/javascript\"></script>\r\n",
      "\t<script src=\"/Common/Scripts/gSearch.min.js?vr=1.0\" type=\"text/javascript\"></script>\r\n",
      "    <link href=\"/Common/Styles/accessibility.css\" rel=\"stylesheet\" /><meta name=\"keywords\" /><meta name=\"description\" content=\"CountyStat is a program within the Montgomery County Office of Management and Budget, ensuring government transparency, a culture of accountability, and data-driven performance.\" /></head>\r\n",
      "<body>\r\n",
      "    <div id=\"mcgpage\">\r\n",
      "        <a href=\"#mcgmaincontent\" class=\"sr-only sr-only-focusable\">Skip to main content</a>\r\n",
      "\t\t<style>\r\n",
      "section .MCGCovidAlert {\r\n",
      "               font-family: \"Lato\", sans-serif;\r\n",
      "               color: inherit;\r\n",
      "               font-weight: 400;\r\n",
      "               line-height: 120%;\r\n",
      "               padding: 15px;\r\n",
      "               margin-bottom: 0;\r\n",
      "}\r\n",
      "section .MCGCovidAlert__msg1 {font-size: 2em; font-weight:800; margin-top:14px; margin-bottom:4px; }\r\n",
      "section .MCGCovidAlert__msg2 {font-size: 1.2em;}\r\n",
      "section .MCGCovidAlert .alert i {1.2em; margin-right: 5px;}\r\n",
      "</style>\r\n",
      "<!--\r\n",
      "<section class=\"alert-royal text-center MCGCovidAlertalert\" aria-label=\"County COVID-19 alert\">\r\n",
      "               <p class=\"MCGCovidAlert__msg1\"><a href=\"https://montgomerycountymd.gov/covid19\"><i class=\"fa fa-exclamation-circle\"></i> COVID-19 Updates</a></p>                       \r\n",
      "               <p class=\"MCGCovidAlert__msg2\"><a href=\"https://montgomerycountymd.gov/covid19/vaccine/\">Vaccine and Booster Information</a></p>\r\n",
      "</section>\r\n",
      "-->\r\n",
      "    \r\n",
      "    \r\n",
      "    <!--<div class=\"alert alert-royal\" style=\"text-align: center;margin-bottom:0px\">\r\n",
      "\t<h2><a href=\"https://montgomerycountymd.gov/covid19\" style=\"font-weight:600;\"><i class=\"fa fa-exclamation-circle fa-4x\"></i> COVID-19 Updates</a></h2>\t \t\r\n",
      "\t\t<h5><a href=\"https://www.montgomerycountymd.gov/covid19-reopening\">Reopening Guidelines</a></h5>\r\n",
      "\t</div>-->\r\n",
      "\r\n",
      "        <div id=\"mcgheader\" tabindex=\"-1\">\r\n",
      "            <link rel=\"stylesheet\" type=\"text/css\" href=\"/Common/Styles/mcg-colors.css\">\r\n",
      "<link rel=\"stylesheet\" type=\"text/css\" href=\"/Common/Styles/mcg-stylesheet.css\">\r\n",
      "<link rel=\"stylesheet\" type=\"text/css\" href=\"/Common/Styles/mcg-v2-template-transitional-styles.css\">\r\n",
      "<link rel=\"stylesheet\" type=\"text/css\" href=\"/Common/Styles/mcg-bootstrap-5.css\">\r\n",
      "<link rel=\"stylesheet\" type=\"text/css\" href=\"/Common/Styles/mcg-header-with-google-translate-widget.css\">\r\n",
      "\r\n",
      "<!-- UNCOMMENT TO USE THE MCG FEEDBACK BUTTON \r\n",
      "<link rel=\"stylesheet\" type=\"text/css\" href=\"/Common/Styles/mcg-feedback-styles.css\">\r\n",
      "-->\r\n",
      "\r\n",
      "<style>\r\n",
      "/*====================================*/\r\n",
      "/*=== STYLES SPECIFIC TO THIS SITE ===*/\r\n",
      "/*====================================*/\r\n",
      "\r\n",
      "/* to avoid top nav wrapping */\r\n",
      "/*\r\n",
      "@media (min-width: 992px) and (max-width: 1199px) { \r\n",
      "    #mcg-site-nav--links li {\r\n",
      "        margin: 0 -4px;\r\n",
      "    }\r\n",
      "    #mcg-site-nav--links a {\r\n",
      "        padding: 15px 6px;\r\n",
      "    }\r\n",
      "}\r\n",
      "*/\r\n",
      "\r\n",
      ".mcg-header-branding__tagline {font-size: 1rem;display:block;font-weight: normal;}\r\n",
      "@media (min-width: 992px) {\r\n",
      "    .mcg-header-branding__tagline {font-size: 1.2rem;}\r\n",
      "\r\n",
      "}\r\n",
      "\r\n",
      "hr.divider {    border-top: 1px solid var(--mcg-gray-6);}\r\n",
      "\r\n",
      ".cs-footer-tagline {\r\n",
      "    text-align:center;\r\n",
      "    margin: 0 auto; \r\n",
      "    width: 80%;\r\n",
      "}\r\n",
      "    \r\n",
      "</style>\r\n",
      "\r\n",
      "\r\n",
      "\r\n",
      "<!----- BEGIN HEADER ----->\r\n",
      "<header class=\"mb-3\" aria-label=\"County and department\">\r\n",
      "\r\n",
      "<section class=\"fluid-container mcg-bg-gray-1\">\r\n",
      "    <div class=\"container\">\r\n",
      "        <div class=\"mcg-official-site py-1\">\r\n",
      "            <span class=\"hidden-xs\">\r\n",
      "                An official website of <a href=\"https://www.montgomerycountymd.gov/\" target=\"_blank\">Montgomery County, Maryland</a>\r\n",
      "            </span>\r\n",
      "            <span class=\"visible-xs\">\r\n",
      "                An official website of<br/> <a href=\"https://www.montgomerycountymd.gov/\" target=\"_blank\">Montgomery County, Maryland</a>\r\n",
      "            </span>\r\n",
      "            <span class=\"mcg-official-site__mc311\"><a href=\"https://www.montgomerycountymd.gov/mc311\" target=\"_blank\">MC311</a></span>\r\n",
      "            </span>\r\n",
      "        </div>\r\n",
      "    </div>\r\n",
      "</section>\r\n",
      "\r\n",
      "<div class=\"container\">\r\n",
      "    <div class=\"mcg-header-elements mt-1 mb-3\">\r\n",
      "        <!-- mcg-header-branding -->\r\n",
      "        <div class=\"mcg-header-branding\">\r\n",
      "            <div class=\"mcg-header-branding__logo\" id=\"mcgSiteLogo\">            \r\n",
      "               <img src=\"/countystat/Resources/Images/header/countystat-logo.png\" alt=\"CountyStat logo\">\r\n",
      "            </div>\r\n",
      "            <div class=\"mcg-header-branding__text\" id=\"mcgSiteName\">\r\n",
      "                <a href=\"/countystat/main.html\">Montgomery County CountyStat</a>\r\n",
      "                <span class=\"mcg-header-branding__tagline\">Office of Management and Budget</span>\r\n",
      "            </div>\r\n",
      "\r\n",
      "        </div>\r\n",
      "    \r\n",
      "        <!-- mcg-header-utilities -->\r\n",
      "        <div class=\"mcg-header-utilities\">\r\n",
      "            <div class=\"hidden-md hidden-lg\">\r\n",
      "                <button type=\"button\" id=\"hamburger-menu\" class=\"mcg-mobile-header-icon\" aria-label=\"open navigation and translation\"  aria-controls=\"mcg-site-nav--links\" aria-expanded=\"false\">\r\n",
      "                    <i class=\"fa fa-bars fa-fw\" aria-hidden=\"true\"></i><i aria-hidden=\"true\" class=\"fa-solid fa-globe\"></i>\r\n",
      "                </button>\r\n",
      "            </div>\r\n",
      "            <!-- Keep this div empty for the Google custom search -->\r\n",
      "            <div id=\"searchCustom\"></div>\r\n",
      "        </div>\r\n",
      "    </div><!-- end class=\"mcg-header-elements -->\r\n",
      "</div>\r\n",
      "\r\n",
      "<!----- BEGIN TOP NAVIGATION ----->\r\n",
      "<nav aria-label=\"Site\" role=\"navigation\" id=\"mcg-site-nav\">\r\n",
      "    <div class=\"container\">\r\n",
      "        <div id=\"slide-nav\" class=\"slide-content slide-content--right\">\r\n",
      "            <button type=\"button\" id=\"close\" class=\"close-btn\" aria-label=\"close navigation\">&times;</button>\r\n",
      "            <div class=\"mcg-header-translation-widget\">\r\n",
      "                <label class=\"me-1\" for=\"translateID\">Translate</label>\r\n",
      "                <div id=\"google_translate_element\"></div>\r\n",
      "            </div>\r\n",
      "        <ul id=\"mcg-site-nav--links\">\r\n",
      "                <li class=\"hidden-xs hidden-sm\"><a href=\"/countystat/main.html\" aria-label=\"CountyStat home\"><i class=\"fa fa-home\" aria-hidden=\"true\"></i></a></li>\r\n",
      "                <li class=\"hidden-md hidden-lg\"><a href=\"/countystat/main.html\">CountyStat Home</a></li>\r\n",
      "                <li><a href=\"/countystat/dept_performance.html\">Department Performance</a></li>\r\n",
      "                <li><a href=\"/countystat/community_insights.html\">Community Insights</a></li>\r\n",
      "                <li><a href=\"/countystat/proj_and_prod.html\">Projects and Products</a></li>\r\n",
      "                <li><a href=\"/countystat/about.html\">About Us</a></li>\r\n",
      "\r\n",
      "            </ul>\r\n",
      "        </div>\r\n",
      "    </div>\r\n",
      "</nav>\r\n",
      "<!----- END TOP NAVIGATION ----->\r\n",
      "\r\n",
      "</header>\r\n",
      "<!----- END HEADER ----->\r\n",
      "\r\n",
      "<script>\r\n",
      "     $(document).ready(function () {\r\n",
      "         $(\"#searchCustom\").googleSearchBox({ resultURL: \"https://montgomerycountymd.gov/mcgresponsive/newsearch.html\" });\r\n",
      "         //$('#txtSearchbox').val('Enter keyword(s) or phrase')\r\n",
      "         //Clear the default value when input box is in focus.\r\n",
      "         $('input:text').focus(function () {\r\n",
      "             $(this).val('');\r\n",
      "         });\r\n",
      "\r\n",
      "         // replace Search text on button with magnifier icon\r\n",
      "         $(\"#btnSearchBox\").html('<i class=\"fa fa-search\" aria-hidden=\"true\"></i><span class=\"sr-only\">Search</span>');\r\n",
      "     });\r\n",
      "</script>\r\n",
      "        </div>\r\n",
      "        <div id=\"mcgmenu\">\r\n",
      "               <!-- REMOVE MenuBar -->\r\n",
      "        </div>        \r\n",
      "            <div id=\"mcgcontentheader\">\r\n",
      "                \r\n",
      "                <!--<div class=\"container\"></div>-->\r\n",
      "            </div>\r\n",
      "\t\t\t<div id=\"mcgmaincontent\" role=\"main\" tabindex=\"-1\">\r\n",
      "\t\t\t\t\r\n",
      "\t\t\t\t    \t\t\n",
      "\t\t\n",
      "<div class=\"container\">\n",
      "    <p style=\"font-size:larger;\">\n",
      "        <strong>CountyStat is the performance management and data analytics team for Montgomery County (MD) Government</strong>. Established in 2007 under the Office of County Executive and shifted to the Office of Management and Budget in 2020, CountyStat uses an outcome-focused performance framework to strategically monitor, assess, and improve the effectiveness and efficiency of County services. Employing analytics skills and tools, CountyStat leverages administrative and public data to help County departments solve problems and develop targeted action plans and strategies to deliver results for our residents.\n",
      "    </p>\n",
      "    <p style=\"font-size:larger;\">Collectively, our work is designed to ensure, on behalf of County leadership, the development and growth of a culture of “managing for results” in Montgomery County.</p>\n",
      "    <ul class=\"row mcg-card-group mt-4\">\n",
      "        <li class=\"col-md-4 col-sm-6\">\n",
      "            <a class=\"mcg-card\" href=\"/countystat/dept_performance.html\">\n",
      "                <span class=\"mcg-card__text\">\n",
      "                    <span class=\"mcg-card__header h3\">Department Performance      </span>\n",
      "                    <span class=\"mcg-card__description\">Access County Government performance dashboards and plans</span>\n",
      "                </span>\n",
      "                <span class=\"mcg-card__image\">\n",
      "                    <img alt=\"Keyboard with Performance Management\" class=\"center-block img-responsive\" src=\"/countystat/Resources/Images/perform-banner-600x400.jpg\" style=\"width: 100%; height: 230px;\" />\n",
      "                </span>\n",
      "            </a>\n",
      "        </li>\n",
      "        <li class=\"col-md-4 col-sm-6\">\n",
      "            <a class=\"mcg-card\" href=\"https://www.montgomerycountymd.gov/countystat/program-inventory/index.html\">\n",
      "                <span class=\"mcg-card__text\">\n",
      "                    <span class=\"mcg-card__header h3\">New: ProgramPulse</span>\n",
      "                    <span class=\"mcg-card__description\">Comprehensive Program Inventory Initiative: Enhancing performance and accountability    </span>\n",
      "                </span>\n",
      "                <span class=\"mcg-card__image\">\n",
      "                    <img alt=\"Aerial photo of a neighborhood community. \" class=\"center-block img-responsive\" src=\"/countystat/Resources/Images/af%20housing.PNG\" style=\"width: 100%; height: 230px;\" />\n",
      "                </span>\n",
      "            </a>\n",
      "        </li>\n",
      "        <li class=\"col-md-4 col-sm-6\">\n",
      "            <a class=\"mcg-card\" href=\"https://www.montgomerycountymd.gov/countystat/tell-our-story-initiative.html\">\n",
      "                <span class=\"mcg-card__text\">\n",
      "                    <span class=\"mcg-card__header h3\">Telling Our Organizational Success Story</span>\n",
      "                    <span class=\"mcg-card__description\">Discover how employees have improved government services.</span>\n",
      "                </span>\n",
      "                <span class=\"mcg-card__image\">\n",
      "                    <img alt=\"Tell Our Story-Flash Bus Services.\" class=\"center-block img-responsive\" src=\"/countystat/Resources/Images/Capture3.PNG\" style=\"width: 100%; height: 230px;\" />\n",
      "                </span>\n",
      "            </a>\n",
      "        </li>\n",
      "    </ul>\n",
      "    <h2 class=\"right-line\">Featured Projects</h2>\n",
      "    <ul class=\"row mcg-card-group mt-4\">\n",
      "        <li class=\"col-md-4 col-sm-6\">\n",
      "            <a class=\"mcg-card\" href=\"/countystat/services_performance.html\">\n",
      "                <span class=\"mcg-card__text\">\n",
      "                    <span class=\"mcg-card__header h3\">Service Performance</span>\n",
      "                    <span class=\"mcg-card__description\">CountyStat reviews the entire catalog of services provided by the CountyGovernment, and considers revisions to performance standards to take effect at the start of each new fiscal year.</span>\n",
      "                </span>\n",
      "                <span class=\"mcg-card__image\">\n",
      "                    <img alt=\"Food Scraps Recycling Truck. \" class=\"center-block img-responsive\" src=\"/countystat/Resources/Images/Service-pic-600x400.png\" style=\"width: 100%; height: 100%;\" />\n",
      "                </span>\n",
      "            </a>\n",
      "        </li>\n",
      "        <li class=\"col-md-4 col-sm-6\">\n",
      "            <a class=\"mcg-card\" href=\"/rps/dashboard.html\">\n",
      "                <span class=\"mcg-card__text\">\n",
      "                    <span class=\"mcg-card__header h3\">Reimagining Public Safety</span>\n",
      "                    <span class=\"mcg-card__description\">This dashboard provides the public with data on the Reimagining Public Safety (RPS) Task Force, the Maryland Police Accountability Act, and the Effective Law Enforcement for All MCPD Audits.</span>\n",
      "                </span>\n",
      "                <span class=\"mcg-card__image\">\n",
      "                    <img alt=\"\" class=\"center-block img-responsive\" src=\"/countystat/Resources/Images/rps-logo-600x400.png\" style=\"width: 100%; height: 100%;\" />\n",
      "                </span>\n",
      "            </a>\n",
      "        </li>\n",
      "        <li class=\"col-md-4 col-sm-6\">\n",
      "            <a class=\"mcg-card\" href=\"/covid19/data/\">\n",
      "                <span class=\"mcg-card__text\">\n",
      "                    <span class=\"mcg-card__header h3\">Covid-19 Surveillance</span>\n",
      "                    <span class=\"mcg-card__description\">This dashboard displays the relevant metrics used to track the spread of Covid-19 in Montgomery County, Maryland in alignment with the Centers for Disease control and Prevention (CDC)</span>\n",
      "                </span>\n",
      "                <span class=\"mcg-card__image\">\n",
      "                    <img alt=\"\" class=\"center-block img-responsive\" src=\"/countystat/Resources/Images/covid19-600x400.png\" style=\"width: 100%; height: 100%;\" />\n",
      "                </span>\n",
      "            </a>\n",
      "        </li>\n",
      "        <li class=\"col-md-4 col-sm-6\">\n",
      "            <a class=\"mcg-card\" href=\"/countystat/qls.html\">\n",
      "                <span class=\"mcg-card__text\">\n",
      "                    <span class=\"mcg-card__header h3\">Community Livibility Survey</span>\n",
      "                    <span class=\"mcg-card__description\">Montgomery County conducted a Livability Survey to better understand resident views on quality of life in the County. Explore the results and see trends that point to positive progress and priorities for improvement.</span>\n",
      "                </span>\n",
      "                <span class=\"mcg-card__image\">\n",
      "                    <img alt=\"\" class=\"center-block img-responsive\" src=\"/countystat/Resources/Images/new_images/comm_insights/qls-600x400.jpg\" style=\"width: 100%; height: 100%;\" />\n",
      "                </span>\n",
      "            </a>\n",
      "        </li>\n",
      "        <li class=\"col-md-4 col-sm-6\">\n",
      "            <a class=\"mcg-card\" href=\"https://public.tableau.com/profile/countystat#!/vizhome/AgingandVulnerability/Overview\">\n",
      "                <span class=\"mcg-card__text\">\n",
      "                    <span class=\"mcg-card__header h3\">Aging and Vulnerability Dashboards</span>\n",
      "                    <span class=\"mcg-card__description\">CountyStat created dashboards to depict the economic challenges facing our senior communities in order to locate priority areas for aid.</span>\n",
      "                </span>\n",
      "                <span class=\"mcg-card__image\">\n",
      "                    <img alt=\"\" class=\"center-block img-responsive\" src=\"/countystat/Resources/Images/new_images/proj_and_prod/aging-600x400.png\" style=\"width: 100%; height: 100%;\" />\n",
      "                </span>\n",
      "            </a>\n",
      "        </li>\n",
      "        <li class=\"col-md-4 col-sm-6\">\n",
      "            <a class=\"mcg-card\" href=\"https://mcgov-gis.maps.arcgis.com/apps/MapJournal/index.html?appid=60410e6f22844d2cbbe619505cb6e7bb\">\n",
      "                <span class=\"mcg-card__text\">\n",
      "                    <span class=\"mcg-card__header h3\">Vision Zero</span>\n",
      "                    <span class=\"mcg-card__description\">Montgomery County's Vision Zero initiative is working to reduce severe and fatal collisions on County roads by 35 percent for vehicle occupants, pedestrians, and bicyclists by 2019.</span>\n",
      "                </span>\n",
      "                <span class=\"mcg-card__image\">\n",
      "                    <img alt=\"\" class=\"center-block img-responsive\" src=\"/countystat/Resources/Images/new_images/proj_and_prod/vision-zero-600x400.png\" style=\"width: 100%; height: 100%;\" />\n",
      "                </span>\n",
      "            </a>\n",
      "        </li>\n",
      "        <li class=\"col-md-4 col-sm-6\">\n",
      "            <a class=\"mcg-card\" href=\"https://mcgov-gis.maps.arcgis.com/apps/MapJournal/index.html?appid=cfa19613a2e6487ca5374a6c152f6f17\">\n",
      "                <span class=\"mcg-card__text\">\n",
      "                    <span class=\"mcg-card__header h3\">Food Security</span>\n",
      "                    <span class=\"mcg-card__description\">CountyStat partnered with the Montgomery County Food Council and Montgomery County Department of Health and Human Services to develop an interactive tool that explores data pertaining to the County’s Food Insecure residents and the efforts that our County and Community are taking in fighting hunger.</span>\n",
      "                </span>\n",
      "                <span class=\"mcg-card__image\">\n",
      "                    <img alt=\"\" class=\"center-block img-responsive\" src=\"/countystat/Resources/Images/new_images/proj_and_prod/food-stat-600x400.png\" style=\"width: 100%; height: 100%;\" />\n",
      "                </span>\n",
      "            </a>\n",
      "        </li>\n",
      "        <li class=\"col-md-4 col-sm-6\">\n",
      "            <a class=\"mcg-card\" href=\"https://mcgov-gis.maps.arcgis.com/apps/webappviewer/index.html?id=e6a9de67cf3144039f6e6d54e2ece804\">\n",
      "                <span class=\"mcg-card__text\">\n",
      "                    <span class=\"mcg-card__header h3\">MC Insights</span>\n",
      "                    <span class=\"mcg-card__description\">This map-based data tool enables government staff and policymakers, residents, community partners, and advocates to explore the demographics and community assets located in Montgomery County to assist with planning and operations.</span>\n",
      "                </span>\n",
      "                <span class=\"mcg-card__image\">\n",
      "                    <img alt=\"\" class=\"center-block img-responsive\" src=\"/countystat/Resources/Images/new_images/comm_insights/mcinsights-600x400.jpg\" style=\"width: 100%; height: 100%;\" />\n",
      "                </span>\n",
      "            </a>\n",
      "        </li>\n",
      "        <li class=\"col-md-4 col-sm-6\">\n",
      "            <a class=\"mcg-card\" href=\"https://public.tableau.com/app/profile/countystat/viz/2023Self-SufficiencyStandardInteractiveUpdate/Title\">\n",
      "                <span class=\"mcg-card__text\">\n",
      "                    <span class=\"mcg-card__header h3\">Self-Sufficiency Standard</span>\n",
      "                    <span class=\"mcg-card__description\">CountyStat partnered with the County’s Community Action Partnership to build an interactive dashboard to determine how much income a family of a certain composition in a given place needs to adequately meet their basic needs – without public or private assistance.</span>\n",
      "                </span>\n",
      "                <span class=\"mcg-card__image\">\n",
      "                    <img alt=\"\" class=\"center-block img-responsive\" src=\"/countystat/Resources/Images/new_images/proj_and_prod/self-sufficiency-600x400.png\" style=\"width: 100%; height: 100%;\" />\n",
      "                </span>\n",
      "            </a>\n",
      "        </li>\n",
      "    </ul>\n",
      "    <!-- Insert CE Customer Service Commitment -->\n",
      "    <div data-mcgcms=\"include\" data-mcgcms-scr=\"/common/usercontrols/commitment.htm\"></div>\n",
      "</div>\n",
      "\n",
      "\t\n",
      "    \r\n",
      "\t\t\t</div>\r\n",
      "            <div id=\"mcgcontentfooter\">\r\n",
      "                \r\n",
      "                <aside class=\"container pb-3\" aria-label=\"CountyStat program explanation\">\n",
      "<hr/>\n",
      "<div class=\"cs-footer-tagline\">\n",
      "    <p>We are a program within the Montgomery County Office of Management and Budget, ensuring government transparency, a culture of accountability, and data-driven performance.</p>\n",
      "</div>\n",
      "</aside>\r\n",
      "            </div>\r\n",
      "        \r\n",
      "        <div id=\"mcgfooter\">\r\n",
      "            <footer aria-label=\"County\">\r\n",
      "<div id=\"footer-widgets\">\r\n",
      "<div class=\"container\">\r\n",
      "<div class=\"row margin-top-10\">\r\n",
      "<div class=\"col-md-3\">\r\n",
      "<h6 class=\"h4 footer-widget-title\">eSubscription</h6>\r\n",
      "<form action=\"https://public.govdelivery.com/accounts/MDMONTGOMERY/subscribers/qualify\"  id=\"GD-snippet-form\" method=\"post\">\r\n",
      "<div class=\"input-group\">\r\n",
      "<input type=\"hidden\" id=\"Hidden1\" name=\"subscription_type\" value=\"email\" />\r\n",
      "<label for=\"email\"><span class=\"sr-only\">Email</span></label>\r\n",
      "<input class=\"form-control\" placeholder=\"Email Address\" type=\"text\" id=\"email\" name=\"email\"  /> <span class=\"input-group-btn\"><button class=\"btn btn-ar btn-primary\" name=\"commit\" type=\"submit\" value=\"Submit\">Subscribe</button> </span></div>\r\n",
      "<p>Sign up for a newsletter or update your subscription preferences.</p></form>\r\n",
      "<!--\r\n",
      "><h4 class=\"footer-widget-title\"><a href=\"https://www.montgomerycountymd.gov/awards\">Awards</a></h4>\r\n",
      "<span><a href=\"https://www.montgomerycountymd.gov/awards\"><img src=\"/mcg/Resources/Images/awards/awards_footer_2018.png\" class=\"img-responsive\" alt=\"2018 tech savvy county award and digital counties survey award logo\"></a></span>\r\n",
      "-->\r\n",
      "</div>\r\n",
      "\r\n",
      "\r\n",
      "<div class=\"col-md-3\">\r\n",
      "<h6 class=\"h4 footer-widget-title\">Stay Informed</h6>\r\n",
      "\r\n",
      "<ul class=\"list-unstyled\">\r\n",
      "    <li><a href=\"https://montgomerycountymd.gov/awards\">Awards</a></li>\r\n",
      "    <li><a href=\"https://montgomerycountymd.gov/contact\">Contact Us</a></li>\r\n",
      "    <li><a href=\"/ccm\">County Cable Montgomery</a></li>\r\n",
      "    <!--<li><a href=\"https://montgomerycountymd.gov/calendar\">County Calendar</a></li>-->\r\n",
      "    <li><a href=\"httsp://montgomerycountymd.gov/socialmedia\">Social Media Directory</a></li>\r\n",
      "    <!--<li><a href=\"https://www.montgomerycountymd.gov/mcg/sm-hub.html\">Social Media Hub</a></li>-->\r\n",
      "    <li><a href=\"https://www.montgomerycountymd.gov/careers\">Employment Opportunities</a></li>\r\n",
      "    <li><a href=\"https://www2.montgomerycountymd.gov/mcgportalapps/SearchPhoneBook.aspx\">Employee Directory</a></li>\r\n",
      "</ul>\r\n",
      "</div>\r\n",
      "\r\n",
      "<div class=\"col-md-3\">\r\n",
      "<h6 class=\"h4 footer-widget-title\">Policies</h6>\r\n",
      "\r\n",
      "<ul class=\"list-unstyled\">\r\n",
      "\t<li><a href=\"https://montgomerycountymd.gov/privacy\">Privacy Policy </a></li>\r\n",
      "\t<li><a href=\"https://montgomerycountymd.gov/user_rights\">User Rights </a></li>\r\n",
      "\t<li><a href=\"https://montgomerycountymd.gov/accessibility\">Accessibility</a></li>\r\n",
      "\t<li><a href=\"https://montgomerycountymd.gov/translate\">Language Translations</a></li>\r\n",
      "\t<li><a href=\"https://montgomerycountymd.gov/socialmediapolicy\">Social Media</a></li>\r\n",
      "\t<li><a href=\"https://montgomerycountymd.gov/code\">County Code</a></li>\r\n",
      "</ul>\r\n",
      "</div>\r\n",
      "\r\n",
      "<div class=\"col-md-3\">\r\n",
      "\r\n",
      "<h6 class=\"h4 footer-widget-title\">Follow Us</h6>\r\n",
      "    <ul class=\"fa-ul\">\r\n",
      "        <li><i class=\"fa-li fas fa-exclamation-triangle\" aria-hidden=\"true\"></i><a href=\"https://alert.montgomerycountymd.gov/\" target=\"_blank\">Alert Montgomery</a></li>\r\n",
      "        <li><i class=\"fa-li fas fa-envelope\" aria-hidden=\"true\"></i><a href=\"https://www.montgomerycountymd.gov/esubscription\" target=\"_blank\">Subscribe to Newsletters</a></li>\r\n",
      "        <li><i class=\"fa-li fab fa-facebook-f\" aria-hidden=\"true\"></i><a href=\"https://www.facebook.com/montgomerycountyinfo\">Facebook</a></li>\r\n",
      "        <li><i class=\"fa-li fab fa-x-twitter\" aria-hidden=\"true\"></i><a href=\"https://twitter.com/MontgomeryCoMD\">X</a></li>\r\n",
      "        <li><i class=\"fa-li fab fa-youtube\" aria-hidden=\"true\"></i><a href=\"https://www.youtube.com/user/montgomerycountymd\">Youtube</a></li>\r\n",
      "        <li><i class=\"fa-li fab fa-flickr\" aria-hidden=\"true\"></i><a href=\"https://www.flickr.com/photos/montgomerycountymd\">Flickr</a></li>\r\n",
      "    </ul>\r\n",
      "</div>\r\n",
      "</div>\r\n",
      "\r\n",
      "\r\n",
      "<div class=\"text-center\" id=\"copyright\" style=\"font-size:1em; letter-spacing: 2px; padding-top: 8px;\">Copyright <script>document.write( new Date().getFullYear() );</script>. <a href=\"https://www.montgomerycountymd.gov/\">Montgomery County Government</a> - All Rights Reserved.</div>\r\n",
      "</div>\r\n",
      "</footer>\r\n",
      "\r\n",
      "<!--====================-->\r\n",
      "<!-- INSERT JAVASCRIPT  -->\r\n",
      "<!--====================-->\r\n",
      "\r\n",
      "<!-- for MCG slide out menu -->\r\n",
      "<script src=\"/common/Scripts/mcg-slide-out-menu.js\"></script>\r\n",
      "\r\n",
      "\r\n",
      "<!-- for Google Translate widget -->\r\n",
      "<script>\r\n",
      "    function googleTranslateElementInit() {\r\n",
      "        new google.translate.TranslateElement({\r\n",
      "            pageLanguage: 'en',\r\n",
      "            layout: google.translate.TranslateElement.InlineLayout.VERTICAL\r\n",
      "        },\r\n",
      "        'google_translate_element');\r\n",
      "    }\r\n",
      "    \r\n",
      "    // Give the language widget label tag an ID to use\r\n",
      "    setTimeout(function () { jQuery(\".goog-te-combo\").attr(\"id\", \"translateID\"); }, 1000);\r\n",
      "    // Update the language widget's aria-label\r\n",
      "    setTimeout(function () { jQuery(\".goog-te-combo\").attr(\"aria-label\", \"language\"); }, 1000);\r\n",
      "</script>\r\n",
      "<script src=\"//translate.google.com/translate_a/element.js?cb=googleTranslateElementInit\"></script>\r\n",
      "\r\n",
      "\r\n",
      "<script>\r\n",
      "  // hide Covid alert at top of page\r\n",
      "  $(document).ready(function () {\r\n",
      "      $(\".alert-royal\").remove();\r\n",
      "    });  \r\n",
      "</script>\r\n",
      "        </div>\r\n",
      "        <div id=\"back-top\">\r\n",
      "            <a href=\"#mcgheader\" title=\"Scroll to top\" accesskey=\"1\"><i class=\"fa fa-chevron-up\"><span class=\"sr-only\">Go Top</span></i></a>\t    \r\n",
      "        </div>\r\n",
      "    </div>    \r\n",
      "    <script src=\"/Common/Scripts/mcgcms.js\" type=\"text/javascript\"></script>\r\n",
      "    <script>\r\n",
      "        $(\"#back-top\").hide();\r\n",
      "        $(function () {\r\n",
      "            $(window).scroll(function () {\r\n",
      "                if ($(this).scrollTop() > 100) {\r\n",
      "                    $('#back-top').fadeIn();\r\n",
      "                } else {\r\n",
      "                    $('#back-top').fadeOut();\r\n",
      "                }\r\n",
      "            });\r\n",
      "            $('#back-top a').click(function () {\r\n",
      "                $('body,html').animate({\r\n",
      "                    scrollTop: 0\r\n",
      "                }, 500);\r\n",
      "                return false;\r\n",
      "            });\r\n",
      "        });\r\n",
      "     $(window).on('load', function () {\r\n",
      "\t\t\t $('ul.dropdown-menu [data-toggle=dropdown]').on('click', function(event) {\r\n",
      "\t\t\t\t\tevent.preventDefault(); \r\n",
      "\t\t\t\t\tevent.stopPropagation(); \r\n",
      "\t\t\t\t\t$(this).parent().siblings().removeClass('open');\r\n",
      "\t\t\t\t\t$(this).parent().toggleClass('open');\r\n",
      "\t\t});\r\n",
      " \t});\r\n",
      "    </script>    \r\n",
      "\r\n",
      "\t\r\n",
      "</body>\r\n",
      "</html>\r\n",
      ": 2\n"
     ]
    },
    {
     "name": "stderr",
     "output_type": "stream",
     "text": [
      " 84%|███████████████████████████████████████████████████████████████▎           | 8439/10000 [1:52:47<27:40,  1.06s/it]"
     ]
    }
   ],
   "source": [
    "df['data'] = df['api_link'].progress_apply(fetch_data)"
   ]
  },
  {
   "cell_type": "code",
   "execution_count": null,
   "id": "c956fa7b",
   "metadata": {},
   "outputs": [],
   "source": []
  }
 ],
 "metadata": {
  "kernelspec": {
   "display_name": "Python 3 (ipykernel)",
   "language": "python",
   "name": "python3"
  },
  "language_info": {
   "codemirror_mode": {
    "name": "ipython",
    "version": 3
   },
   "file_extension": ".py",
   "mimetype": "text/x-python",
   "name": "python",
   "nbconvert_exporter": "python",
   "pygments_lexer": "ipython3",
   "version": "3.9.12"
  }
 },
 "nbformat": 4,
 "nbformat_minor": 5
}
